{
 "cells": [
  {
   "cell_type": "code",
   "execution_count": 1,
   "id": "0106e9d3",
   "metadata": {
    "_cell_guid": "b1076dfc-b9ad-4769-8c92-a6c4dae69d19",
    "_uuid": "8f2839f25d086af736a60e9eeb907d3b93b6e0e5",
    "execution": {
     "iopub.execute_input": "2021-12-11T08:19:39.340091Z",
     "iopub.status.busy": "2021-12-11T08:19:39.333506Z",
     "iopub.status.idle": "2021-12-11T08:19:39.343107Z",
     "shell.execute_reply": "2021-12-11T08:19:39.343506Z",
     "shell.execute_reply.started": "2021-12-11T08:18:42.613538Z"
    },
    "papermill": {
     "duration": 0.022207,
     "end_time": "2021-12-11T08:19:39.343727",
     "exception": false,
     "start_time": "2021-12-11T08:19:39.321520",
     "status": "completed"
    },
    "tags": []
   },
   "outputs": [],
   "source": [
    "# This Python 3 environment comes with many helpful analytics libraries installed\n",
    "# It is defined by the kaggle/python Docker image: https://github.com/kaggle/docker-python\n",
    "# For example, here's several helpful packages to load\n",
    "\n",
    "import numpy as np # linear algebra\n",
    "import pandas as pd # data processing, CSV file I/O (e.g. pd.read_csv)\n",
    "\n",
    "# Input data files are available in the read-only \"../input/\" directory\n",
    "# For example, running this (by clicking run or pressing Shift+Enter) will list all files under the input directory\n",
    "\n",
    "import os\n",
    "\n",
    "\n",
    "# You can write up to 20GB to the current directory (/kaggle/working/) that gets preserved as output when you create a version using \"Save & Run All\" \n",
    "# You can also write temporary files to /kaggle/temp/, but they won't be saved outside of the current session"
   ]
  },
  {
   "cell_type": "code",
   "execution_count": 2,
   "id": "0f860726",
   "metadata": {
    "execution": {
     "iopub.execute_input": "2021-12-11T08:19:39.369071Z",
     "iopub.status.busy": "2021-12-11T08:19:39.368414Z",
     "iopub.status.idle": "2021-12-11T08:19:41.884526Z",
     "shell.execute_reply": "2021-12-11T08:19:41.885743Z",
     "shell.execute_reply.started": "2021-12-11T08:18:43.742126Z"
    },
    "papermill": {
     "duration": 2.5339,
     "end_time": "2021-12-11T08:19:41.885985",
     "exception": false,
     "start_time": "2021-12-11T08:19:39.352085",
     "status": "completed"
    },
    "tags": []
   },
   "outputs": [],
   "source": [
    "import sys\n",
    "sys.path.append(\"../input/tez-lib/\")\n",
    "sys.path.append(\"../input/timmmaster/\")\n",
    "\n",
    "import numpy as np # linear algebra\n",
    "import pandas as pd # data processing, CSV file I/O (e.g. pd.read_csv)\n",
    "import os\n",
    "import torch\n",
    "import torchvision\n",
    "import sklearn\n",
    "%matplotlib inline\n",
    "import matplotlib.pyplot as plt\n",
    "import seaborn as sns\n",
    "import torch.nn as nn\n",
    "from torch.utils.data import Dataset, DataLoader\n",
    "import torchvision.transforms as transforms\n",
    "from torchvision.io import read_image\n",
    "import math\n",
    "\n",
    "test_csv = pd.read_csv('../input/petfinder-pawpularity-score/test.csv')\n",
    "submission = pd.read_csv('../input/petfinder-pawpularity-score/sample_submission.csv')\n",
    "\n",
    "test_dir = '../input/petfinder-pawpularity-score/test/'\n",
    "\n",
    "def create_path(df,root_dir):\n",
    "    df['Path'] = df['Id'].apply(lambda x: root_dir+x+'.jpg')\n",
    "    \n",
    "    \n",
    "    \n",
    "    \n",
    "create_path(test_csv,test_dir)\n",
    "\n",
    "# Create Label column (used later)\n",
    "test_csv['Pawpularity'] = 100  "
   ]
  },
  {
   "cell_type": "code",
   "execution_count": 3,
   "id": "3a86e993",
   "metadata": {
    "execution": {
     "iopub.execute_input": "2021-12-11T08:19:41.924203Z",
     "iopub.status.busy": "2021-12-11T08:19:41.921399Z",
     "iopub.status.idle": "2021-12-11T08:19:41.933094Z",
     "shell.execute_reply": "2021-12-11T08:19:41.934120Z",
     "shell.execute_reply.started": "2021-12-11T08:18:45.053313Z"
    },
    "papermill": {
     "duration": 0.034618,
     "end_time": "2021-12-11T08:19:41.934291",
     "exception": false,
     "start_time": "2021-12-11T08:19:41.899673",
     "status": "completed"
    },
    "tags": []
   },
   "outputs": [],
   "source": [
    "def sigmoid(x):\n",
    "    return 1 / (1 + math.exp(-x))\n",
    "\n",
    "class CustomDataSet(Dataset):\n",
    "    \n",
    "    def __init__(self,csv_file,transform=None,augment_transform=None,root_dir ='../input/petfinder-pawpularity-score/train/' ):\n",
    "        self.csv_file = csv_file\n",
    "        self.transform = transform\n",
    "        self.augment_trans = augment_transform\n",
    "        self.root_dir = root_dir\n",
    "        self.img_paths = self._get_img_paths(self.csv_file, root_dir)\n",
    "        \n",
    "    def __len__(self):\n",
    "        return int(self.csv_file.shape[0])\n",
    "    \n",
    "    def __getitem__(self,idx):\n",
    "        img_path = self.img_paths[idx]\n",
    "        image = read_image(img_path)\n",
    "        label = self.csv_file.Pawpularity.iloc[idx]/100\n",
    "        image = image.type(torch.FloatTensor)\n",
    "        \n",
    "        if self.transform:\n",
    "            image = self.transform(image)\n",
    "        if self.augment_trans:\n",
    "            image = self.augment_transform(image)\n",
    "           \n",
    "        image = torch.mul(image, (1/255))\n",
    "        return {'image':image,'targets':label}\n",
    "    \n",
    "    def _get_img_paths(self,csv_file,root_dir):\n",
    "        imgs = csv_file['Id'].apply(lambda x: root_dir+x+'.jpg').tolist()\n",
    "        return imgs\n",
    "    \n",
    "    \n",
    " \n",
    "\n",
    "from torch.utils.data.sampler import SubsetRandomSampler\n",
    "normalize = transforms.Normalize(mean=[0.485, 0.456, 0.406],\n",
    "                                     std=[0.229, 0.224, 0.225])\n",
    "transform = transforms.Compose([\n",
    "                                normalize,\n",
    "                                transforms.Resize(255),\n",
    "                                transforms.CenterCrop(224)])\n",
    "\n",
    "\n",
    "\n",
    "test_data = CustomDataSet(test_csv,transform,root_dir = test_dir)   "
   ]
  },
  {
   "cell_type": "code",
   "execution_count": 4,
   "id": "6d3e7329",
   "metadata": {
    "execution": {
     "iopub.execute_input": "2021-12-11T08:19:42.020842Z",
     "iopub.status.busy": "2021-12-11T08:19:42.019984Z",
     "iopub.status.idle": "2021-12-11T08:19:44.140024Z",
     "shell.execute_reply": "2021-12-11T08:19:44.140490Z",
     "shell.execute_reply.started": "2021-12-11T08:18:46.324549Z"
    },
    "papermill": {
     "duration": 2.194182,
     "end_time": "2021-12-11T08:19:44.140643",
     "exception": false,
     "start_time": "2021-12-11T08:19:41.946461",
     "status": "completed"
    },
    "tags": []
   },
   "outputs": [
    {
     "name": "stdout",
     "output_type": "stream",
     "text": [
      "cuda:0\n"
     ]
    }
   ],
   "source": [
    "#!pip install timm\n",
    "#!pip install tez\n",
    "device = torch.device('cuda:0' if torch.cuda.is_available() else 'cpu')\n",
    "print(device)\n",
    "\n",
    "\n",
    "import torch.optim as optim\n",
    "from torch.optim import lr_scheduler\n",
    "from torchvision import models\n",
    "import time\n",
    "import copy\n",
    "\n",
    "import timm\n",
    "from tez.callbacks import EarlyStopping\n",
    "\n",
    "\n",
    "import tez\n",
    "from tqdm import tqdm\n"
   ]
  },
  {
   "cell_type": "code",
   "execution_count": 5,
   "id": "1b5b4073",
   "metadata": {
    "execution": {
     "iopub.execute_input": "2021-12-11T08:19:44.177300Z",
     "iopub.status.busy": "2021-12-11T08:19:44.176484Z",
     "iopub.status.idle": "2021-12-11T08:19:44.274587Z",
     "shell.execute_reply": "2021-12-11T08:19:44.273095Z",
     "shell.execute_reply.started": "2021-12-11T08:18:47.366437Z"
    },
    "papermill": {
     "duration": 0.118217,
     "end_time": "2021-12-11T08:19:44.274777",
     "exception": false,
     "start_time": "2021-12-11T08:19:44.156560",
     "status": "completed"
    },
    "tags": []
   },
   "outputs": [],
   "source": [
    "import sys\n",
    "sys.path.append(\"../input/tez-lib/\")\n",
    "sys.path.append(\"../input/timmmaster/\")\n",
    "import tez\n",
    "import timm\n",
    "\n",
    "from tez.callbacks import EarlyStopping\n",
    "#sys.path.append(\"../input/tez-lib\")\n",
    "#sys.path.append(\"../input/timmmaster\")\n",
    "from sklearn import metrics\n",
    "\n",
    "def mixup_loss(loss_fn, pred, y_a, y_b, lam):\n",
    "    # get loss from current x n loss from watermarks n add\n",
    "    return lam * loss_fn(pred, y_a) + (1 - lam) * loss_fn(pred, y_b)\n",
    "\n",
    "class PawpularModel(tez.Model):\n",
    "    def __init__(self,name):\n",
    "        super().__init__()\n",
    "        \n",
    "        self.model = timm.create_model(name, pretrained=False, in_chans=3)\n",
    "        self.model.head = nn.Linear(self.model.head.in_features, 128)\n",
    "        self.dropout = nn.Dropout(p=0.5)\n",
    "        self.dense1 = nn.Linear(128,1)\n",
    "        \n",
    "        self.step_scheduler_after = 'epoch'\n",
    "        \n",
    "    \n",
    "    \n",
    "    def forward(self, image, targets=None):        \n",
    "        # do mixup when have targets and state is train (doesnt do mixup at val)\n",
    "        if ((targets is not None) and (self._train_state == True)):\n",
    "            #image, features, target_a, target_b, lam = mixup_data(image, features, targets.view(-1,1)) \n",
    "            image = image.to(device='cuda', dtype=torch.float)\n",
    "            features = features.to(device='cuda', dtype=torch.float)\n",
    "            target_a = target_a.to(device='cuda', dtype=torch.float)\n",
    "            target_b = target_b.to(device='cuda', dtype=torch.float)\n",
    "        x = self.model(image)\n",
    "        x = self.dropout(x)\n",
    "        # combine with meta features and shrink it down to 1 feature (score)\n",
    "        \n",
    "        x = self.dense1(x)\n",
    "        \n",
    "        \n",
    "        \n",
    "        return x, 0, {}"
   ]
  },
  {
   "cell_type": "code",
   "execution_count": 6,
   "id": "91d05ab9",
   "metadata": {
    "execution": {
     "iopub.execute_input": "2021-12-11T08:19:44.309636Z",
     "iopub.status.busy": "2021-12-11T08:19:44.308811Z",
     "iopub.status.idle": "2021-12-11T08:19:44.312346Z",
     "shell.execute_reply": "2021-12-11T08:19:44.312780Z",
     "shell.execute_reply.started": "2021-12-11T08:18:56.440923Z"
    },
    "papermill": {
     "duration": 0.022333,
     "end_time": "2021-12-11T08:19:44.312925",
     "exception": false,
     "start_time": "2021-12-11T08:19:44.290592",
     "status": "completed"
    },
    "tags": []
   },
   "outputs": [],
   "source": [
    "#model = timm.create_model(\"swin_large_patch4_window12_384\",pretrained=True)"
   ]
  },
  {
   "cell_type": "code",
   "execution_count": 7,
   "id": "2e918f13",
   "metadata": {
    "execution": {
     "iopub.execute_input": "2021-12-11T08:19:44.348257Z",
     "iopub.status.busy": "2021-12-11T08:19:44.347027Z",
     "iopub.status.idle": "2021-12-11T08:20:03.297542Z",
     "shell.execute_reply": "2021-12-11T08:20:03.298175Z",
     "shell.execute_reply.started": "2021-12-11T08:18:57.439689Z"
    },
    "papermill": {
     "duration": 18.974374,
     "end_time": "2021-12-11T08:20:03.298378",
     "exception": false,
     "start_time": "2021-12-11T08:19:44.324004",
     "status": "completed"
    },
    "tags": []
   },
   "outputs": [
    {
     "name": "stderr",
     "output_type": "stream",
     "text": [
      "0it [00:00, ?it/s]\n",
      "1it [00:06,  6.19s/it]\n",
      "  0%|          | 0/1 [00:06<?, ?it/s, stage=test]\u001b[A\n",
      "100%|██████████| 1/1 [00:06<00:00,  6.22s/it, stage=test]\n",
      "1it [00:06,  6.23s/it]\n",
      "0it [00:00, ?it/s]\n",
      "1it [00:00,  7.26it/s]\n",
      "  0%|          | 0/1 [00:00<?, ?it/s, stage=test]\u001b[A\n",
      "100%|██████████| 1/1 [00:00<00:00,  5.43it/s, stage=test]\n",
      "1it [00:00,  5.17it/s]\n",
      "0it [00:00, ?it/s]\n",
      "1it [00:00,  7.48it/s]\n",
      "  0%|          | 0/1 [00:00<?, ?it/s, stage=test]\u001b[A\n",
      "100%|██████████| 1/1 [00:00<00:00,  5.72it/s, stage=test]\n",
      "1it [00:00,  5.41it/s]\n",
      "0it [00:00, ?it/s]\n",
      "1it [00:00,  7.30it/s]\n",
      "  0%|          | 0/1 [00:00<?, ?it/s, stage=test]\u001b[A\n",
      "100%|██████████| 1/1 [00:00<00:00,  5.51it/s, stage=test]\n",
      "1it [00:00,  5.21it/s]\n",
      "0it [00:00, ?it/s]\n",
      "1it [00:00,  7.45it/s]\n",
      "  0%|          | 0/1 [00:00<?, ?it/s, stage=test]\u001b[A\n",
      "100%|██████████| 1/1 [00:00<00:00,  5.51it/s, stage=test]\n",
      "1it [00:00,  5.20it/s]\n"
     ]
    }
   ],
   "source": [
    "super_final_predictions = []\n",
    "sys.path.append(\"../input/tez-lib/\")\n",
    "sys.path.append(\"../input/timmmaster/\")\n",
    "for fold_ in range(5):\n",
    "    model = PawpularModel(\"swin_tiny_patch4_window7_224\")\n",
    "    model.load(f\"../input/kfold-pet1/swin_tiny_patch4_window7_224_f{fold_}.bin\", device=\"cuda\", weights_only=True)\n",
    "\n",
    "    df_test = pd.read_csv(\"../input/petfinder-pawpularity-score/test.csv\")\n",
    "    #test_img_paths = [f\"../input/petfinder-pawpularity-score/test/{x}.jpg\" for x in df_test[\"Id\"].values]\n",
    "\n",
    "    \n",
    "\n",
    "    test_dataset = CustomDataSet(\n",
    "        test_csv,transform,root_dir=test_dir\n",
    "    )\n",
    "    test_predictions = model.predict(test_dataset, batch_size=32, n_jobs=-1)\n",
    "\n",
    "    final_test_predictions = []\n",
    "    for preds in tqdm(test_predictions):\n",
    "        final_test_predictions.extend(preds.ravel().tolist())\n",
    "\n",
    "    final_test_predictions = [sigmoid(x) * 100 for x in final_test_predictions]\n",
    "    super_final_predictions.append(final_test_predictions)\n",
    "\n",
    "super_final_predictions = np.mean(np.column_stack(super_final_predictions), axis=1)\n",
    "df_test[\"Pawpularity\"] = super_final_predictions\n",
    "df_test = df_test[[\"Id\", \"Pawpularity\"]]\n",
    "df_test.to_csv(\"submission.csv\", index=False)"
   ]
  },
  {
   "cell_type": "code",
   "execution_count": 8,
   "id": "f6e16dff",
   "metadata": {
    "execution": {
     "iopub.execute_input": "2021-12-11T08:20:03.359340Z",
     "iopub.status.busy": "2021-12-11T08:20:03.358562Z",
     "iopub.status.idle": "2021-12-11T08:20:03.370094Z",
     "shell.execute_reply": "2021-12-11T08:20:03.370572Z",
     "shell.execute_reply.started": "2021-12-11T08:19:02.137614Z"
    },
    "papermill": {
     "duration": 0.045539,
     "end_time": "2021-12-11T08:20:03.370743",
     "exception": false,
     "start_time": "2021-12-11T08:20:03.325204",
     "status": "completed"
    },
    "tags": []
   },
   "outputs": [
    {
     "data": {
      "text/html": [
       "<div>\n",
       "<style scoped>\n",
       "    .dataframe tbody tr th:only-of-type {\n",
       "        vertical-align: middle;\n",
       "    }\n",
       "\n",
       "    .dataframe tbody tr th {\n",
       "        vertical-align: top;\n",
       "    }\n",
       "\n",
       "    .dataframe thead th {\n",
       "        text-align: right;\n",
       "    }\n",
       "</style>\n",
       "<table border=\"1\" class=\"dataframe\">\n",
       "  <thead>\n",
       "    <tr style=\"text-align: right;\">\n",
       "      <th></th>\n",
       "      <th>Id</th>\n",
       "      <th>Pawpularity</th>\n",
       "    </tr>\n",
       "  </thead>\n",
       "  <tbody>\n",
       "    <tr>\n",
       "      <th>0</th>\n",
       "      <td>4128bae22183829d2b5fea10effdb0c3</td>\n",
       "      <td>43.230660</td>\n",
       "    </tr>\n",
       "    <tr>\n",
       "      <th>1</th>\n",
       "      <td>43a2262d7738e3d420d453815151079e</td>\n",
       "      <td>43.382045</td>\n",
       "    </tr>\n",
       "    <tr>\n",
       "      <th>2</th>\n",
       "      <td>4e429cead1848a298432a0acad014c9d</td>\n",
       "      <td>43.266073</td>\n",
       "    </tr>\n",
       "    <tr>\n",
       "      <th>3</th>\n",
       "      <td>80bc3ccafcc51b66303c2c263aa38486</td>\n",
       "      <td>43.188794</td>\n",
       "    </tr>\n",
       "    <tr>\n",
       "      <th>4</th>\n",
       "      <td>8f49844c382931444e68dffbe20228f4</td>\n",
       "      <td>43.222089</td>\n",
       "    </tr>\n",
       "    <tr>\n",
       "      <th>5</th>\n",
       "      <td>b03f7041962238a7c9d6537e22f9b017</td>\n",
       "      <td>43.341514</td>\n",
       "    </tr>\n",
       "    <tr>\n",
       "      <th>6</th>\n",
       "      <td>c978013571258ed6d4637f6e8cc9d6a3</td>\n",
       "      <td>43.213194</td>\n",
       "    </tr>\n",
       "    <tr>\n",
       "      <th>7</th>\n",
       "      <td>e0de453c1bffc20c22b072b34b54e50f</td>\n",
       "      <td>43.397801</td>\n",
       "    </tr>\n",
       "  </tbody>\n",
       "</table>\n",
       "</div>"
      ],
      "text/plain": [
       "                                 Id  Pawpularity\n",
       "0  4128bae22183829d2b5fea10effdb0c3    43.230660\n",
       "1  43a2262d7738e3d420d453815151079e    43.382045\n",
       "2  4e429cead1848a298432a0acad014c9d    43.266073\n",
       "3  80bc3ccafcc51b66303c2c263aa38486    43.188794\n",
       "4  8f49844c382931444e68dffbe20228f4    43.222089\n",
       "5  b03f7041962238a7c9d6537e22f9b017    43.341514\n",
       "6  c978013571258ed6d4637f6e8cc9d6a3    43.213194\n",
       "7  e0de453c1bffc20c22b072b34b54e50f    43.397801"
      ]
     },
     "execution_count": 8,
     "metadata": {},
     "output_type": "execute_result"
    }
   ],
   "source": [
    "df_test"
   ]
  },
  {
   "cell_type": "code",
   "execution_count": null,
   "id": "eec53f03",
   "metadata": {
    "papermill": {
     "duration": 0.026177,
     "end_time": "2021-12-11T08:20:03.426223",
     "exception": false,
     "start_time": "2021-12-11T08:20:03.400046",
     "status": "completed"
    },
    "tags": []
   },
   "outputs": [],
   "source": []
  }
 ],
 "metadata": {
  "kernelspec": {
   "display_name": "Python 3",
   "language": "python",
   "name": "python3"
  },
  "language_info": {
   "codemirror_mode": {
    "name": "ipython",
    "version": 3
   },
   "file_extension": ".py",
   "mimetype": "text/x-python",
   "name": "python",
   "nbconvert_exporter": "python",
   "pygments_lexer": "ipython3",
   "version": "3.7.12"
  },
  "papermill": {
   "default_parameters": {},
   "duration": 34.44554,
   "end_time": "2021-12-11T08:20:05.637186",
   "environment_variables": {},
   "exception": null,
   "input_path": "__notebook__.ipynb",
   "output_path": "__notebook__.ipynb",
   "parameters": {},
   "start_time": "2021-12-11T08:19:31.191646",
   "version": "2.3.3"
  }
 },
 "nbformat": 4,
 "nbformat_minor": 5
}
