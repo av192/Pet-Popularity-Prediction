{
 "cells": [
  {
   "cell_type": "code",
   "execution_count": 1,
   "id": "b9a9fba2",
   "metadata": {
    "_cell_guid": "b1076dfc-b9ad-4769-8c92-a6c4dae69d19",
    "_uuid": "8f2839f25d086af736a60e9eeb907d3b93b6e0e5",
    "execution": {
     "iopub.execute_input": "2021-11-15T05:59:16.223415Z",
     "iopub.status.busy": "2021-11-15T05:59:16.222773Z",
     "iopub.status.idle": "2021-11-15T05:59:16.230508Z",
     "shell.execute_reply": "2021-11-15T05:59:16.230920Z",
     "shell.execute_reply.started": "2021-11-14T06:00:07.292468Z"
    },
    "papermill": {
     "duration": 0.054168,
     "end_time": "2021-11-15T05:59:16.231123",
     "exception": false,
     "start_time": "2021-11-15T05:59:16.176955",
     "status": "completed"
    },
    "tags": []
   },
   "outputs": [
    {
     "data": {
      "text/plain": [
       "\"for dirname, _, filenames in os.walk('/kaggle/input'):\\n    for filename in filenames:\\n        print(os.path.join(dirname, filename))\""
      ]
     },
     "execution_count": 1,
     "metadata": {},
     "output_type": "execute_result"
    }
   ],
   "source": [
    "# This Python 3 environment comes with many helpful analytics libraries installed\n",
    "# It is defined by the kaggle/python Docker image: https://github.com/kaggle/docker-python\n",
    "# For example, here's several helpful packages to load\n",
    "\n",
    "\n",
    "\n",
    "# Input data files are available in the read-only \"../input/\" directory\n",
    "# For example, running this (by clicking run or pressing Shift+Enter) will list all files under the input directory\n",
    "\n",
    "\n",
    "'''for dirname, _, filenames in os.walk('/kaggle/input'):\n",
    "    for filename in filenames:\n",
    "        print(os.path.join(dirname, filename))'''\n",
    "\n",
    "# You can write up to 20GB to the current directory (/kaggle/working/) that gets preserved as output when you create a version using \"Save & Run All\" \n",
    "# You can also write temporary files to /kaggle/temp/, but they won't be saved outside of the current session"
   ]
  },
  {
   "cell_type": "code",
   "execution_count": 2,
   "id": "b3149709",
   "metadata": {
    "execution": {
     "iopub.execute_input": "2021-11-15T05:59:16.307837Z",
     "iopub.status.busy": "2021-11-15T05:59:16.307209Z",
     "iopub.status.idle": "2021-11-15T05:59:18.652156Z",
     "shell.execute_reply": "2021-11-15T05:59:18.651667Z",
     "shell.execute_reply.started": "2021-11-14T06:00:08.453081Z"
    },
    "papermill": {
     "duration": 2.385424,
     "end_time": "2021-11-15T05:59:18.652299",
     "exception": false,
     "start_time": "2021-11-15T05:59:16.266875",
     "status": "completed"
    },
    "tags": []
   },
   "outputs": [],
   "source": [
    "import numpy as np # linear algebra\n",
    "import pandas as pd # data processing, CSV file I/O (e.g. pd.read_csv)\n",
    "import os\n",
    "import torch\n",
    "import torchvision\n",
    "import sklearn\n",
    "%matplotlib inline\n",
    "import matplotlib.pyplot as plt\n",
    "import seaborn as sns\n",
    "import torch.nn as nn\n",
    "from torch.utils.data import Dataset, DataLoader\n",
    "import torchvision.transforms as transforms\n",
    "from torchvision.io import read_image\n",
    "import math\n"
   ]
  },
  {
   "cell_type": "code",
   "execution_count": 3,
   "id": "b5b6d65c",
   "metadata": {
    "execution": {
     "iopub.execute_input": "2021-11-15T05:59:18.728573Z",
     "iopub.status.busy": "2021-11-15T05:59:18.727988Z",
     "iopub.status.idle": "2021-11-15T05:59:18.790331Z",
     "shell.execute_reply": "2021-11-15T05:59:18.789875Z",
     "shell.execute_reply.started": "2021-11-14T06:00:10.893985Z"
    },
    "papermill": {
     "duration": 0.102878,
     "end_time": "2021-11-15T05:59:18.790454",
     "exception": false,
     "start_time": "2021-11-15T05:59:18.687576",
     "status": "completed"
    },
    "tags": []
   },
   "outputs": [],
   "source": [
    "train_dir = '../input/petfinder-pawpularity-score/train/'\n",
    "test_dir = '../input/petfinder-pawpularity-score/test/'\n",
    "\n",
    "train_csv = pd.read_csv('../input/petfinder-pawpularity-score/train.csv')\n",
    "test_csv = pd.read_csv('../input/petfinder-pawpularity-score/test.csv')\n",
    "submission = pd.read_csv('../input/petfinder-pawpularity-score/sample_submission.csv')\n",
    "\n",
    "# Path of every image\n",
    "def create_path(df,root_dir):\n",
    "    df['Path'] = df['Id'].apply(lambda x: root_dir+x+'.jpg')\n",
    "    \n",
    "create_path(train_csv,train_dir)\n",
    "create_path(test_csv,test_dir)\n",
    "\n",
    "# Create Label column (used later)\n",
    "test_csv['Pawpularity'] = 0"
   ]
  },
  {
   "cell_type": "code",
   "execution_count": 4,
   "id": "28132702",
   "metadata": {
    "execution": {
     "iopub.execute_input": "2021-11-15T05:59:18.866803Z",
     "iopub.status.busy": "2021-11-15T05:59:18.866040Z",
     "iopub.status.idle": "2021-11-15T05:59:18.914669Z",
     "shell.execute_reply": "2021-11-15T05:59:18.913869Z",
     "shell.execute_reply.started": "2021-11-14T06:00:10.95767Z"
    },
    "papermill": {
     "duration": 0.089491,
     "end_time": "2021-11-15T05:59:18.914789",
     "exception": false,
     "start_time": "2021-11-15T05:59:18.825298",
     "status": "completed"
    },
    "tags": []
   },
   "outputs": [
    {
     "data": {
      "text/html": [
       "<div>\n",
       "<style scoped>\n",
       "    .dataframe tbody tr th:only-of-type {\n",
       "        vertical-align: middle;\n",
       "    }\n",
       "\n",
       "    .dataframe tbody tr th {\n",
       "        vertical-align: top;\n",
       "    }\n",
       "\n",
       "    .dataframe thead th {\n",
       "        text-align: right;\n",
       "    }\n",
       "</style>\n",
       "<table border=\"1\" class=\"dataframe\">\n",
       "  <thead>\n",
       "    <tr style=\"text-align: right;\">\n",
       "      <th></th>\n",
       "      <th>Subject Focus</th>\n",
       "      <th>Eyes</th>\n",
       "      <th>Face</th>\n",
       "      <th>Near</th>\n",
       "      <th>Action</th>\n",
       "      <th>Accessory</th>\n",
       "      <th>Group</th>\n",
       "      <th>Collage</th>\n",
       "      <th>Human</th>\n",
       "      <th>Occlusion</th>\n",
       "      <th>Info</th>\n",
       "      <th>Blur</th>\n",
       "      <th>Pawpularity</th>\n",
       "    </tr>\n",
       "  </thead>\n",
       "  <tbody>\n",
       "    <tr>\n",
       "      <th>count</th>\n",
       "      <td>9912.000000</td>\n",
       "      <td>9912.000000</td>\n",
       "      <td>9912.000000</td>\n",
       "      <td>9912.000000</td>\n",
       "      <td>9912.000000</td>\n",
       "      <td>9912.000000</td>\n",
       "      <td>9912.000000</td>\n",
       "      <td>9912.000000</td>\n",
       "      <td>9912.000000</td>\n",
       "      <td>9912.000000</td>\n",
       "      <td>9912.000000</td>\n",
       "      <td>9912.000000</td>\n",
       "      <td>9912.000000</td>\n",
       "    </tr>\n",
       "    <tr>\n",
       "      <th>mean</th>\n",
       "      <td>0.027643</td>\n",
       "      <td>0.772599</td>\n",
       "      <td>0.903955</td>\n",
       "      <td>0.861582</td>\n",
       "      <td>0.009988</td>\n",
       "      <td>0.067797</td>\n",
       "      <td>0.129338</td>\n",
       "      <td>0.049637</td>\n",
       "      <td>0.166263</td>\n",
       "      <td>0.172014</td>\n",
       "      <td>0.061239</td>\n",
       "      <td>0.070420</td>\n",
       "      <td>38.039044</td>\n",
       "    </tr>\n",
       "    <tr>\n",
       "      <th>std</th>\n",
       "      <td>0.163957</td>\n",
       "      <td>0.419175</td>\n",
       "      <td>0.294668</td>\n",
       "      <td>0.345356</td>\n",
       "      <td>0.099444</td>\n",
       "      <td>0.251409</td>\n",
       "      <td>0.335591</td>\n",
       "      <td>0.217204</td>\n",
       "      <td>0.372335</td>\n",
       "      <td>0.377411</td>\n",
       "      <td>0.239780</td>\n",
       "      <td>0.255866</td>\n",
       "      <td>20.591990</td>\n",
       "    </tr>\n",
       "    <tr>\n",
       "      <th>min</th>\n",
       "      <td>0.000000</td>\n",
       "      <td>0.000000</td>\n",
       "      <td>0.000000</td>\n",
       "      <td>0.000000</td>\n",
       "      <td>0.000000</td>\n",
       "      <td>0.000000</td>\n",
       "      <td>0.000000</td>\n",
       "      <td>0.000000</td>\n",
       "      <td>0.000000</td>\n",
       "      <td>0.000000</td>\n",
       "      <td>0.000000</td>\n",
       "      <td>0.000000</td>\n",
       "      <td>1.000000</td>\n",
       "    </tr>\n",
       "    <tr>\n",
       "      <th>25%</th>\n",
       "      <td>0.000000</td>\n",
       "      <td>1.000000</td>\n",
       "      <td>1.000000</td>\n",
       "      <td>1.000000</td>\n",
       "      <td>0.000000</td>\n",
       "      <td>0.000000</td>\n",
       "      <td>0.000000</td>\n",
       "      <td>0.000000</td>\n",
       "      <td>0.000000</td>\n",
       "      <td>0.000000</td>\n",
       "      <td>0.000000</td>\n",
       "      <td>0.000000</td>\n",
       "      <td>25.000000</td>\n",
       "    </tr>\n",
       "    <tr>\n",
       "      <th>50%</th>\n",
       "      <td>0.000000</td>\n",
       "      <td>1.000000</td>\n",
       "      <td>1.000000</td>\n",
       "      <td>1.000000</td>\n",
       "      <td>0.000000</td>\n",
       "      <td>0.000000</td>\n",
       "      <td>0.000000</td>\n",
       "      <td>0.000000</td>\n",
       "      <td>0.000000</td>\n",
       "      <td>0.000000</td>\n",
       "      <td>0.000000</td>\n",
       "      <td>0.000000</td>\n",
       "      <td>33.000000</td>\n",
       "    </tr>\n",
       "    <tr>\n",
       "      <th>75%</th>\n",
       "      <td>0.000000</td>\n",
       "      <td>1.000000</td>\n",
       "      <td>1.000000</td>\n",
       "      <td>1.000000</td>\n",
       "      <td>0.000000</td>\n",
       "      <td>0.000000</td>\n",
       "      <td>0.000000</td>\n",
       "      <td>0.000000</td>\n",
       "      <td>0.000000</td>\n",
       "      <td>0.000000</td>\n",
       "      <td>0.000000</td>\n",
       "      <td>0.000000</td>\n",
       "      <td>46.000000</td>\n",
       "    </tr>\n",
       "    <tr>\n",
       "      <th>max</th>\n",
       "      <td>1.000000</td>\n",
       "      <td>1.000000</td>\n",
       "      <td>1.000000</td>\n",
       "      <td>1.000000</td>\n",
       "      <td>1.000000</td>\n",
       "      <td>1.000000</td>\n",
       "      <td>1.000000</td>\n",
       "      <td>1.000000</td>\n",
       "      <td>1.000000</td>\n",
       "      <td>1.000000</td>\n",
       "      <td>1.000000</td>\n",
       "      <td>1.000000</td>\n",
       "      <td>100.000000</td>\n",
       "    </tr>\n",
       "  </tbody>\n",
       "</table>\n",
       "</div>"
      ],
      "text/plain": [
       "       Subject Focus         Eyes         Face         Near       Action  \\\n",
       "count    9912.000000  9912.000000  9912.000000  9912.000000  9912.000000   \n",
       "mean        0.027643     0.772599     0.903955     0.861582     0.009988   \n",
       "std         0.163957     0.419175     0.294668     0.345356     0.099444   \n",
       "min         0.000000     0.000000     0.000000     0.000000     0.000000   \n",
       "25%         0.000000     1.000000     1.000000     1.000000     0.000000   \n",
       "50%         0.000000     1.000000     1.000000     1.000000     0.000000   \n",
       "75%         0.000000     1.000000     1.000000     1.000000     0.000000   \n",
       "max         1.000000     1.000000     1.000000     1.000000     1.000000   \n",
       "\n",
       "         Accessory        Group      Collage        Human    Occlusion  \\\n",
       "count  9912.000000  9912.000000  9912.000000  9912.000000  9912.000000   \n",
       "mean      0.067797     0.129338     0.049637     0.166263     0.172014   \n",
       "std       0.251409     0.335591     0.217204     0.372335     0.377411   \n",
       "min       0.000000     0.000000     0.000000     0.000000     0.000000   \n",
       "25%       0.000000     0.000000     0.000000     0.000000     0.000000   \n",
       "50%       0.000000     0.000000     0.000000     0.000000     0.000000   \n",
       "75%       0.000000     0.000000     0.000000     0.000000     0.000000   \n",
       "max       1.000000     1.000000     1.000000     1.000000     1.000000   \n",
       "\n",
       "              Info         Blur  Pawpularity  \n",
       "count  9912.000000  9912.000000  9912.000000  \n",
       "mean      0.061239     0.070420    38.039044  \n",
       "std       0.239780     0.255866    20.591990  \n",
       "min       0.000000     0.000000     1.000000  \n",
       "25%       0.000000     0.000000    25.000000  \n",
       "50%       0.000000     0.000000    33.000000  \n",
       "75%       0.000000     0.000000    46.000000  \n",
       "max       1.000000     1.000000   100.000000  "
      ]
     },
     "execution_count": 4,
     "metadata": {},
     "output_type": "execute_result"
    }
   ],
   "source": [
    "train_csv.describe()"
   ]
  },
  {
   "cell_type": "code",
   "execution_count": 5,
   "id": "ffd428e1",
   "metadata": {
    "execution": {
     "iopub.execute_input": "2021-11-15T05:59:19.030633Z",
     "iopub.status.busy": "2021-11-15T05:59:19.029613Z",
     "iopub.status.idle": "2021-11-15T05:59:19.031701Z",
     "shell.execute_reply": "2021-11-15T05:59:19.032434Z",
     "shell.execute_reply.started": "2021-11-14T06:00:11.892212Z"
    },
    "papermill": {
     "duration": 0.074572,
     "end_time": "2021-11-15T05:59:19.032693",
     "exception": false,
     "start_time": "2021-11-15T05:59:18.958121",
     "status": "completed"
    },
    "tags": []
   },
   "outputs": [],
   "source": [
    "class CustomDataSet(Dataset):\n",
    "    \n",
    "    def __init__(self,csv_file,transform=None,augment_transform=None):\n",
    "        self.csv_file = csv_file\n",
    "        self.transform = transform\n",
    "        self.augment_trans = augment_transform\n",
    "        \n",
    "        \n",
    "    def __len__(self):\n",
    "        return int(self.csv_file.shape[0])\n",
    "    \n",
    "    def __getitem__(self,idx):\n",
    "        img_path = self.csv_file.Path[idx]\n",
    "        image = read_image(img_path)\n",
    "        label = self.csv_file.Pawpularity[idx]\n",
    "        image = image.type(torch.FloatTensor)\n",
    "        \n",
    "        if self.transform:\n",
    "            image = self.transform(image)\n",
    "        if self.augment_trans:\n",
    "            image = self.augment_transform(image)\n",
    "           \n",
    "        image = torch.mul(image, (1/255))\n",
    "        return image,label"
   ]
  },
  {
   "cell_type": "code",
   "execution_count": null,
   "id": "6d866ac9",
   "metadata": {
    "papermill": {
     "duration": 0.034278,
     "end_time": "2021-11-15T05:59:19.106651",
     "exception": false,
     "start_time": "2021-11-15T05:59:19.072373",
     "status": "completed"
    },
    "tags": []
   },
   "outputs": [],
   "source": []
  },
  {
   "cell_type": "code",
   "execution_count": 6,
   "id": "2c54952e",
   "metadata": {
    "execution": {
     "iopub.execute_input": "2021-11-15T05:59:19.185684Z",
     "iopub.status.busy": "2021-11-15T05:59:19.184872Z",
     "iopub.status.idle": "2021-11-15T05:59:19.192689Z",
     "shell.execute_reply": "2021-11-15T05:59:19.193248Z",
     "shell.execute_reply.started": "2021-11-14T06:00:13.197591Z"
    },
    "papermill": {
     "duration": 0.052006,
     "end_time": "2021-11-15T05:59:19.193420",
     "exception": false,
     "start_time": "2021-11-15T05:59:19.141414",
     "status": "completed"
    },
    "tags": []
   },
   "outputs": [
    {
     "name": "stdout",
     "output_type": "stream",
     "text": [
      "8\n"
     ]
    }
   ],
   "source": [
    "from torch.utils.data.sampler import SubsetRandomSampler\n",
    "normalize = transforms.Normalize(mean=[0.485, 0.456, 0.406],\n",
    "                                     std=[0.229, 0.224, 0.225])\n",
    "transform = transforms.Compose([\n",
    "                                normalize,\n",
    "                                transforms.Resize(255),\n",
    "                                transforms.CenterCrop(224)])\n",
    "train_dataset = CustomDataSet(train_csv,transform) \n",
    "test_data = CustomDataSet(test_csv,transform)\n",
    "\n",
    "\n",
    "#test_data = CustomDataSet(test_csv,transform)\n",
    "\n",
    "\n",
    "\n",
    "len_train = len(train_dataset)\n",
    "\n",
    "\n",
    "split = int(np.floor(0.85 * len_train))\n",
    "list_indices = [x for x in range(len_train)]\n",
    "np.random.seed(42)\n",
    "np.random.shuffle(list_indices)\n",
    "train_indices , val_indices = list_indices[split:], list_indices[:split]\n",
    "\n",
    "train_sampler = SubsetRandomSampler(train_indices)\n",
    "valid_sampler = SubsetRandomSampler(val_indices)\n",
    "\n",
    "train_split = 0.7 * len(train_dataset)\n",
    "val_split = len(train_dataset) - train_split\n",
    "#train_dataset, test_dataset = torch.utils.data.random_split(train_dataset, [train_split,val_split])\n",
    "\n",
    "train_dataloader = DataLoader(train_dataset, batch_size=64, \n",
    "                                           sampler=valid_sampler)\n",
    "validation_dataloader = DataLoader(train_dataset, batch_size=64,\n",
    "                                                sampler=train_sampler)\n",
    "\n",
    "\n",
    "#train_dataloader = {x:DataLoader(train_data[x],batch_size=64,shuffle=True) for x in ['train','val']}\n",
    "test_dataloader = DataLoader(test_data,batch_size=64,shuffle=True)\n",
    "\n",
    "#train_size  = {x: len(train_data[x]) for x in ['train', 'val']}\n",
    "#train_size['val']\n",
    "print(len(test_dataloader.dataset))"
   ]
  },
  {
   "cell_type": "code",
   "execution_count": 7,
   "id": "7f3b81ad",
   "metadata": {
    "execution": {
     "iopub.execute_input": "2021-11-15T05:59:19.315494Z",
     "iopub.status.busy": "2021-11-15T05:59:19.314819Z",
     "iopub.status.idle": "2021-11-15T05:59:19.317437Z",
     "shell.execute_reply": "2021-11-15T05:59:19.317926Z",
     "shell.execute_reply.started": "2021-11-14T06:00:14.06591Z"
    },
    "papermill": {
     "duration": 0.042712,
     "end_time": "2021-11-15T05:59:19.318050",
     "exception": false,
     "start_time": "2021-11-15T05:59:19.275338",
     "status": "completed"
    },
    "tags": []
   },
   "outputs": [
    {
     "data": {
      "text/plain": [
       "24"
      ]
     },
     "execution_count": 7,
     "metadata": {},
     "output_type": "execute_result"
    }
   ],
   "source": [
    "len(validation_dataloader)"
   ]
  },
  {
   "cell_type": "code",
   "execution_count": 8,
   "id": "749ab34e",
   "metadata": {
    "execution": {
     "iopub.execute_input": "2021-11-15T05:59:19.397063Z",
     "iopub.status.busy": "2021-11-15T05:59:19.396295Z",
     "iopub.status.idle": "2021-11-15T05:59:19.635714Z",
     "shell.execute_reply": "2021-11-15T05:59:19.636096Z",
     "shell.execute_reply.started": "2021-11-14T06:00:15.472581Z"
    },
    "papermill": {
     "duration": 0.282179,
     "end_time": "2021-11-15T05:59:19.636271",
     "exception": false,
     "start_time": "2021-11-15T05:59:19.354092",
     "status": "completed"
    },
    "tags": []
   },
   "outputs": [
    {
     "data": {
      "text/plain": [
       "<AxesSubplot:>"
      ]
     },
     "execution_count": 8,
     "metadata": {},
     "output_type": "execute_result"
    },
    {
     "data": {
      "image/png": "[encoded data removed]",
      "text/plain": [
       "<Figure size 432x288 with 1 Axes>"
      ]
     },
     "metadata": {
      "needs_background": "light"
     },
     "output_type": "display_data"
    }
   ],
   "source": [
    "train_csv.Pawpularity[val_indices].hist()"
   ]
  },
  {
   "cell_type": "code",
   "execution_count": 9,
   "id": "47728235",
   "metadata": {
    "execution": {
     "iopub.execute_input": "2021-11-15T05:59:19.714771Z",
     "iopub.status.busy": "2021-11-15T05:59:19.713974Z",
     "iopub.status.idle": "2021-11-15T05:59:19.943735Z",
     "shell.execute_reply": "2021-11-15T05:59:19.944125Z",
     "shell.execute_reply.started": "2021-11-14T06:00:16.14806Z"
    },
    "papermill": {
     "duration": 0.27092,
     "end_time": "2021-11-15T05:59:19.944325",
     "exception": false,
     "start_time": "2021-11-15T05:59:19.673405",
     "status": "completed"
    },
    "tags": []
   },
   "outputs": [
    {
     "data": {
      "text/plain": [
       "<AxesSubplot:>"
      ]
     },
     "execution_count": 9,
     "metadata": {},
     "output_type": "execute_result"
    },
    {
     "data": {
      "image/png": "[encoded data removed]",
      "text/plain": [
       "<Figure size 432x288 with 1 Axes>"
      ]
     },
     "metadata": {
      "needs_background": "light"
     },
     "output_type": "display_data"
    }
   ],
   "source": [
    "train_csv.Pawpularity[train_indices].hist()"
   ]
  },
  {
   "cell_type": "code",
   "execution_count": 10,
   "id": "4719ad62",
   "metadata": {
    "execution": {
     "iopub.execute_input": "2021-11-15T05:59:20.025011Z",
     "iopub.status.busy": "2021-11-15T05:59:20.024196Z",
     "iopub.status.idle": "2021-11-15T05:59:20.026728Z",
     "shell.execute_reply": "2021-11-15T05:59:20.026261Z",
     "shell.execute_reply.started": "2021-11-14T06:00:17.361168Z"
    },
    "papermill": {
     "duration": 0.044054,
     "end_time": "2021-11-15T05:59:20.026845",
     "exception": false,
     "start_time": "2021-11-15T05:59:19.982791",
     "status": "completed"
    },
    "tags": []
   },
   "outputs": [],
   "source": [
    "# img1 = plt.imread(train_csv.Path[64])\n",
    "# img1=img1.reshape(img1.shape[1],img1.shape[2],3)\n",
    "# print(img1.shape)\n",
    "# plt.axis('off')\n",
    "# plt.imshow(img1)\n",
    "# plt.show()"
   ]
  },
  {
   "cell_type": "code",
   "execution_count": 11,
   "id": "158bf25b",
   "metadata": {
    "execution": {
     "iopub.execute_input": "2021-11-15T05:59:20.156904Z",
     "iopub.status.busy": "2021-11-15T05:59:20.156098Z",
     "iopub.status.idle": "2021-11-15T05:59:23.125343Z",
     "shell.execute_reply": "2021-11-15T05:59:23.124835Z",
     "shell.execute_reply.started": "2021-11-14T06:00:17.699083Z"
    },
    "papermill": {
     "duration": 3.053448,
     "end_time": "2021-11-15T05:59:23.125470",
     "exception": false,
     "start_time": "2021-11-15T05:59:20.072022",
     "status": "completed"
    },
    "tags": []
   },
   "outputs": [
    {
     "name": "stdout",
     "output_type": "stream",
     "text": [
      "tensor(4.4563)\n",
      "Feature batch shape: torch.Size([64, 3, 224, 224])\n",
      "Labels batch shape: torch.Size([64])\n",
      "150528\n"
     ]
    },
    {
     "data": {
      "image/png": "[encoded data removed]",
      "text/plain": [
       "<Figure size 432x288 with 1 Axes>"
      ]
     },
     "metadata": {
      "needs_background": "light"
     },
     "output_type": "display_data"
    },
    {
     "name": "stdout",
     "output_type": "stream",
     "text": [
      "Label: 7\n"
     ]
    }
   ],
   "source": [
    "train_image, train_labels = next(iter(train_dataloader))\n",
    "test_image, test_labels = next(iter(test_dataloader))\n",
    "\n",
    "print(train_image[62].max())\n",
    "\n",
    "print(f\"Feature batch shape: {train_image.size()}\")\n",
    "print(f\"Labels batch shape: {train_labels.size()}\")\n",
    "#img = np.transpose(img,(1,0,2))\n",
    "#img = train_image[62].reshape(224,224,3).squeeze()\n",
    "inp = train_image[62]\n",
    "inp = inp.numpy().transpose((1, 2, 0))\n",
    "mean = np.array([0.485, 0.456, 0.406])\n",
    "std = np.array([0.229, 0.224, 0.225])\n",
    "inp = std * inp + mean\n",
    "inp = np.clip(inp, 0, 1)\n",
    "print(inp.size)\n",
    "label = train_labels[0]\n",
    "plt.imshow(inp)\n",
    "plt.show()\n",
    "print(f\"Label: {label}\")"
   ]
  },
  {
   "cell_type": "code",
   "execution_count": 12,
   "id": "66fd2672",
   "metadata": {
    "execution": {
     "iopub.execute_input": "2021-11-15T05:59:23.212649Z",
     "iopub.status.busy": "2021-11-15T05:59:23.211936Z",
     "iopub.status.idle": "2021-11-15T05:59:25.409646Z",
     "shell.execute_reply": "2021-11-15T05:59:25.410158Z",
     "shell.execute_reply.started": "2021-11-14T06:00:20.513171Z"
    },
    "papermill": {
     "duration": 2.243748,
     "end_time": "2021-11-15T05:59:25.410319",
     "exception": false,
     "start_time": "2021-11-15T05:59:23.166571",
     "status": "completed"
    },
    "tags": []
   },
   "outputs": [
    {
     "name": "stdout",
     "output_type": "stream",
     "text": [
      "tensor(4.4187)\n"
     ]
    }
   ],
   "source": [
    "valid_image,valid_label = next(iter(validation_dataloader))\n",
    "print(valid_image[62].max())"
   ]
  },
  {
   "cell_type": "code",
   "execution_count": 13,
   "id": "d58e4693",
   "metadata": {
    "execution": {
     "iopub.execute_input": "2021-11-15T05:59:25.545744Z",
     "iopub.status.busy": "2021-11-15T05:59:25.544885Z",
     "iopub.status.idle": "2021-11-15T05:59:25.548850Z",
     "shell.execute_reply": "2021-11-15T05:59:25.549493Z",
     "shell.execute_reply.started": "2021-11-14T06:00:22.797345Z"
    },
    "papermill": {
     "duration": 0.095213,
     "end_time": "2021-11-15T05:59:25.549691",
     "exception": false,
     "start_time": "2021-11-15T05:59:25.454478",
     "status": "completed"
    },
    "tags": []
   },
   "outputs": [
    {
     "name": "stdout",
     "output_type": "stream",
     "text": [
      "cuda:0\n"
     ]
    }
   ],
   "source": [
    "device = torch.device('cuda:0' if torch.cuda.is_available() else 'cpu')\n",
    "print(device)\n",
    "\n",
    "\n",
    "import torch.optim as optim\n",
    "from torch.optim import lr_scheduler\n",
    "from torchvision import models\n",
    "import time\n",
    "import copy"
   ]
  },
  {
   "cell_type": "code",
   "execution_count": 14,
   "id": "8ff70c29",
   "metadata": {
    "execution": {
     "iopub.execute_input": "2021-11-15T05:59:25.648541Z",
     "iopub.status.busy": "2021-11-15T05:59:25.647800Z",
     "iopub.status.idle": "2021-11-15T05:59:25.650347Z",
     "shell.execute_reply": "2021-11-15T05:59:25.649897Z",
     "shell.execute_reply.started": "2021-11-14T06:00:22.857346Z"
    },
    "papermill": {
     "duration": 0.05763,
     "end_time": "2021-11-15T05:59:25.650466",
     "exception": false,
     "start_time": "2021-11-15T05:59:25.592836",
     "status": "completed"
    },
    "tags": []
   },
   "outputs": [],
   "source": [
    "def train_model2(model,criterion,optimizer,num_epochs=15,split=0.9):\n",
    "    min_val_loss = np.Inf\n",
    "    best_model_wts = copy.deepcopy(model.state_dict())\n",
    "    since = time.time()\n",
    "    for epoch in range(num_epochs):\n",
    "        valid_loss=0.0\n",
    "        train_loss = 0.0\n",
    "        model.train()\n",
    "        \n",
    "        \n",
    "        for iter1,(inputs,labels) in enumerate(train_dataloader):\n",
    "            \n",
    "            inputs = inputs.to(device)\n",
    "            inputs = inputs.type(torch.float)\n",
    "            labels = labels.to(device).view(labels.shape[0],1)\n",
    "            labels = labels.type(torch.float)\n",
    "            \n",
    "            optimizer.zero_grad()\n",
    "            out = model(inputs)\n",
    "            #out=torch.maximum(out,torch.tensor(100,device=device))\n",
    "            #out = torch.mul(out,100)\n",
    "            loss = criterion(out,labels)\n",
    "            loss.backward()\n",
    "            optimizer.step()\n",
    "            train_loss += loss.item() * inputs.size(0)\n",
    "            \n",
    "            print(\n",
    "                f'Epoch: {epoch}\\t{100 * (iter1 + 1) / len(train_dataloader):.2f}'+'%',\n",
    "                end='\\r')\n",
    "            \n",
    "        \n",
    "        else:\n",
    "            print()\n",
    "            with torch.no_grad():\n",
    "                model.eval()\n",
    "                \n",
    "            \n",
    "            for iter2,(inputs,labels) in enumerate(validation_dataloader):\n",
    "                \n",
    "                inputs = inputs.to(device)\n",
    "                inputs = inputs.type(torch.float)\n",
    "                labels = labels.to(device).view(labels.shape[0],1)\n",
    "                labels = labels.type(torch.float)\n",
    "                \n",
    "                output1 = model(inputs)\n",
    "                #output1=torch.maximum(output1,torch.tensor(100,device=device))\n",
    "                #output1 = torch.mul(output1,100).to(device)\n",
    "                loss = criterion(output1,labels)\n",
    "                valid_loss += loss.item() * inputs.size(0)\n",
    "                print(\n",
    "                f'Epoch: {epoch}\\t{100 * (iter2 + 1) / len(validation_dataloader):.2f}'+' %',\n",
    "                end='\\r')\n",
    "        len_train1 = int(np.floor(0.85 * len_train))\n",
    "        len_val1 = len_train - len_train1\n",
    "        train_loss = train_loss / len_train1\n",
    "        valid_loss = valid_loss / len_val1\n",
    "        \n",
    "        print(f'\\nEpoch: {epoch} \\tTraining Loss: {math.sqrt(train_loss):.4f} \\tValidation Loss: {math.sqrt(valid_loss):.4f}')\n",
    "        time_elapsed = time.time() - since\n",
    "        print('Training complete in {:.0f}m {:.0f}s'.format(time_elapsed // 60, time_elapsed % 60))\n",
    "        \n",
    "        if valid_loss < min_val_loss:\n",
    "            min_val_loss = valid_loss\n",
    "            best_epoch = epoch\n",
    "            best_model_wts = copy.deepcopy(model.state_dict())\n",
    "        print('Best val Loss: {:4f}'.format(math.sqrt(min_val_loss)))    \n",
    "            \n",
    "    model.load_state_dict(best_model_wts)\n",
    "    return model"
   ]
  },
  {
   "cell_type": "code",
   "execution_count": 15,
   "id": "821967f6",
   "metadata": {
    "execution": {
     "iopub.execute_input": "2021-11-15T05:59:25.737342Z",
     "iopub.status.busy": "2021-11-15T05:59:25.736498Z",
     "iopub.status.idle": "2021-11-15T05:59:25.738885Z",
     "shell.execute_reply": "2021-11-15T05:59:25.738458Z",
     "shell.execute_reply.started": "2021-11-14T06:00:22.873368Z"
    },
    "papermill": {
     "duration": 0.047111,
     "end_time": "2021-11-15T05:59:25.738986",
     "exception": false,
     "start_time": "2021-11-15T05:59:25.691875",
     "status": "completed"
    },
    "tags": []
   },
   "outputs": [],
   "source": [
    "def mul_100(x):\n",
    "    \n",
    "    res2 = torch.mul((x),100)\n",
    "    return res2\n"
   ]
  },
  {
   "cell_type": "code",
   "execution_count": 16,
   "id": "d9b6d84a",
   "metadata": {
    "execution": {
     "iopub.execute_input": "2021-11-15T05:59:25.830424Z",
     "iopub.status.busy": "2021-11-15T05:59:25.829773Z",
     "iopub.status.idle": "2021-11-15T05:59:25.832454Z",
     "shell.execute_reply": "2021-11-15T05:59:25.831943Z",
     "shell.execute_reply.started": "2021-11-14T06:00:22.886873Z"
    },
    "papermill": {
     "duration": 0.04956,
     "end_time": "2021-11-15T05:59:25.832564",
     "exception": false,
     "start_time": "2021-11-15T05:59:25.783004",
     "status": "completed"
    },
    "tags": []
   },
   "outputs": [],
   "source": [
    "# model_ft1 = torchvision.models.densenet201(pretrained=True)\n",
    "# # print(model_ft1)\n",
    "\n",
    "# for params in model_ft1.parameters():\n",
    "#     params.requires_grad = False\n",
    "    \n",
    "# # #num_filters = model_ft1.fc.in_features\n",
    "\n",
    "# # model_ft1 = model_ft1.to(device)"
   ]
  },
  {
   "cell_type": "code",
   "execution_count": 17,
   "id": "5d15f2ea",
   "metadata": {
    "execution": {
     "iopub.execute_input": "2021-11-15T05:59:25.919486Z",
     "iopub.status.busy": "2021-11-15T05:59:25.918677Z",
     "iopub.status.idle": "2021-11-15T05:59:25.921268Z",
     "shell.execute_reply": "2021-11-15T05:59:25.920789Z",
     "shell.execute_reply.started": "2021-11-14T06:00:22.895885Z"
    },
    "papermill": {
     "duration": 0.047095,
     "end_time": "2021-11-15T05:59:25.921380",
     "exception": false,
     "start_time": "2021-11-15T05:59:25.874285",
     "status": "completed"
    },
    "tags": []
   },
   "outputs": [],
   "source": [
    "#torch.save(model_ft1,'./DenseNet201.pth')"
   ]
  },
  {
   "cell_type": "code",
   "execution_count": 18,
   "id": "15145b11",
   "metadata": {
    "execution": {
     "iopub.execute_input": "2021-11-15T05:59:26.006994Z",
     "iopub.status.busy": "2021-11-15T05:59:26.006196Z",
     "iopub.status.idle": "2021-11-15T05:59:26.009779Z",
     "shell.execute_reply": "2021-11-15T05:59:26.009340Z",
     "shell.execute_reply.started": "2021-11-14T06:00:22.906811Z"
    },
    "papermill": {
     "duration": 0.04667,
     "end_time": "2021-11-15T05:59:26.009881",
     "exception": false,
     "start_time": "2021-11-15T05:59:25.963211",
     "status": "completed"
    },
    "tags": []
   },
   "outputs": [],
   "source": [
    "# model_ft1"
   ]
  },
  {
   "cell_type": "code",
   "execution_count": 19,
   "id": "5eafa95f",
   "metadata": {
    "execution": {
     "iopub.execute_input": "2021-11-15T05:59:26.094947Z",
     "iopub.status.busy": "2021-11-15T05:59:26.094200Z",
     "iopub.status.idle": "2021-11-15T05:59:26.096640Z",
     "shell.execute_reply": "2021-11-15T05:59:26.096198Z",
     "shell.execute_reply.started": "2021-11-14T06:00:22.913859Z"
    },
    "papermill": {
     "duration": 0.046208,
     "end_time": "2021-11-15T05:59:26.096742",
     "exception": false,
     "start_time": "2021-11-15T05:59:26.050534",
     "status": "completed"
    },
    "tags": []
   },
   "outputs": [],
   "source": [
    "# model_sub3 = nn.Sequential(model_ft1,\n",
    "#                           nn.Flatten(),\n",
    "#                            nn.Linear(1000,1)\n",
    "                           \n",
    "#                            ).to(device)"
   ]
  },
  {
   "cell_type": "code",
   "execution_count": 20,
   "id": "75b672fd",
   "metadata": {
    "execution": {
     "iopub.execute_input": "2021-11-15T05:59:26.182403Z",
     "iopub.status.busy": "2021-11-15T05:59:26.181528Z",
     "iopub.status.idle": "2021-11-15T05:59:26.183351Z",
     "shell.execute_reply": "2021-11-15T05:59:26.183842Z",
     "shell.execute_reply.started": "2021-11-14T06:00:22.923901Z"
    },
    "papermill": {
     "duration": 0.046839,
     "end_time": "2021-11-15T05:59:26.183968",
     "exception": false,
     "start_time": "2021-11-15T05:59:26.137129",
     "status": "completed"
    },
    "tags": []
   },
   "outputs": [],
   "source": [
    "# model_sub3\n"
   ]
  },
  {
   "cell_type": "code",
   "execution_count": 21,
   "id": "ef36e325",
   "metadata": {
    "execution": {
     "iopub.execute_input": "2021-11-15T05:59:26.274605Z",
     "iopub.status.busy": "2021-11-15T05:59:26.273662Z",
     "iopub.status.idle": "2021-11-15T05:59:26.275833Z",
     "shell.execute_reply": "2021-11-15T05:59:26.276243Z",
     "shell.execute_reply.started": "2021-11-14T06:00:22.933279Z"
    },
    "papermill": {
     "duration": 0.047621,
     "end_time": "2021-11-15T05:59:26.276375",
     "exception": false,
     "start_time": "2021-11-15T05:59:26.228754",
     "status": "completed"
    },
    "tags": []
   },
   "outputs": [],
   "source": [
    "#model_f = nn.Sequential(model_ft,nn.Sigmoid())"
   ]
  },
  {
   "cell_type": "code",
   "execution_count": 22,
   "id": "4f898f68",
   "metadata": {
    "execution": {
     "iopub.execute_input": "2021-11-15T05:59:26.362676Z",
     "iopub.status.busy": "2021-11-15T05:59:26.361920Z",
     "iopub.status.idle": "2021-11-15T05:59:26.363854Z",
     "shell.execute_reply": "2021-11-15T05:59:26.364264Z",
     "shell.execute_reply.started": "2021-11-14T06:00:22.971167Z"
    },
    "papermill": {
     "duration": 0.046757,
     "end_time": "2021-11-15T05:59:26.364389",
     "exception": false,
     "start_time": "2021-11-15T05:59:26.317632",
     "status": "completed"
    },
    "tags": []
   },
   "outputs": [],
   "source": [
    "#optimizer_ft = optim.SGD(model_ft.parameters(), lr=0.002)\n",
    "#criterion = nn.MSELoss()\n",
    "\n",
    "\n",
    "#exp_lr_scheduler = lr_scheduler.StepLR(optimizer_ft, step_size=3, gamma=0.1)"
   ]
  },
  {
   "cell_type": "code",
   "execution_count": 23,
   "id": "c89e029b",
   "metadata": {
    "execution": {
     "iopub.execute_input": "2021-11-15T05:59:26.452040Z",
     "iopub.status.busy": "2021-11-15T05:59:26.451268Z",
     "iopub.status.idle": "2021-11-15T05:59:26.454081Z",
     "shell.execute_reply": "2021-11-15T05:59:26.454581Z",
     "shell.execute_reply.started": "2021-11-14T06:00:23.223405Z"
    },
    "papermill": {
     "duration": 0.048436,
     "end_time": "2021-11-15T05:59:26.454715",
     "exception": false,
     "start_time": "2021-11-15T05:59:26.406279",
     "status": "completed"
    },
    "tags": []
   },
   "outputs": [
    {
     "data": {
      "text/plain": [
       "9912"
      ]
     },
     "execution_count": 23,
     "metadata": {},
     "output_type": "execute_result"
    }
   ],
   "source": [
    "len(train_dataloader.dataset)"
   ]
  },
  {
   "cell_type": "code",
   "execution_count": 24,
   "id": "8b091874",
   "metadata": {
    "execution": {
     "iopub.execute_input": "2021-11-15T05:59:26.542785Z",
     "iopub.status.busy": "2021-11-15T05:59:26.542254Z",
     "iopub.status.idle": "2021-11-15T05:59:26.545249Z",
     "shell.execute_reply": "2021-11-15T05:59:26.545834Z",
     "shell.execute_reply.started": "2021-11-14T06:00:24.265369Z"
    },
    "papermill": {
     "duration": 0.049673,
     "end_time": "2021-11-15T05:59:26.545989",
     "exception": false,
     "start_time": "2021-11-15T05:59:26.496316",
     "status": "completed"
    },
    "tags": []
   },
   "outputs": [
    {
     "name": "stdout",
     "output_type": "stream",
     "text": [
      "CPU times: user 3 µs, sys: 0 ns, total: 3 µs\n",
      "Wall time: 6.44 µs\n"
     ]
    }
   ],
   "source": [
    "%%time\n",
    "#model = train_model2(model_ft, criterion, optimizer_ft,num_epochs=3)"
   ]
  },
  {
   "cell_type": "code",
   "execution_count": 25,
   "id": "9aa223c8",
   "metadata": {
    "execution": {
     "iopub.execute_input": "2021-11-15T05:59:26.635207Z",
     "iopub.status.busy": "2021-11-15T05:59:26.634375Z",
     "iopub.status.idle": "2021-11-15T05:59:26.636694Z",
     "shell.execute_reply": "2021-11-15T05:59:26.637170Z",
     "shell.execute_reply.started": "2021-11-14T06:00:24.595288Z"
    },
    "papermill": {
     "duration": 0.047579,
     "end_time": "2021-11-15T05:59:26.637298",
     "exception": false,
     "start_time": "2021-11-15T05:59:26.589719",
     "status": "completed"
    },
    "tags": []
   },
   "outputs": [],
   "source": [
    "#torch.cuda.empty_cache()"
   ]
  },
  {
   "cell_type": "code",
   "execution_count": 26,
   "id": "83a60558",
   "metadata": {
    "execution": {
     "iopub.execute_input": "2021-11-15T05:59:26.725090Z",
     "iopub.status.busy": "2021-11-15T05:59:26.724401Z",
     "iopub.status.idle": "2021-11-15T05:59:26.726648Z",
     "shell.execute_reply": "2021-11-15T05:59:26.727018Z",
     "shell.execute_reply.started": "2021-11-14T06:00:24.847459Z"
    },
    "papermill": {
     "duration": 0.047806,
     "end_time": "2021-11-15T05:59:26.727158",
     "exception": false,
     "start_time": "2021-11-15T05:59:26.679352",
     "status": "completed"
    },
    "tags": []
   },
   "outputs": [],
   "source": [
    "#torch.save(model_sub1,'./Lin_DenseNet201.pth')"
   ]
  },
  {
   "cell_type": "code",
   "execution_count": 27,
   "id": "6e4e6bd9",
   "metadata": {
    "execution": {
     "iopub.execute_input": "2021-11-15T05:59:26.817727Z",
     "iopub.status.busy": "2021-11-15T05:59:26.817211Z",
     "iopub.status.idle": "2021-11-15T05:59:32.276030Z",
     "shell.execute_reply": "2021-11-15T05:59:32.275496Z",
     "shell.execute_reply.started": "2021-11-14T06:00:52.482223Z"
    },
    "papermill": {
     "duration": 5.504388,
     "end_time": "2021-11-15T05:59:32.276205",
     "exception": false,
     "start_time": "2021-11-15T05:59:26.771817",
     "status": "completed"
    },
    "tags": []
   },
   "outputs": [],
   "source": [
    "model_sub3 = torch.load('../input/densenet201/Lin_DenseNet201(1).pth',map_location=torch.device(device)).cuda()"
   ]
  },
  {
   "cell_type": "code",
   "execution_count": 28,
   "id": "ea0b19d8",
   "metadata": {
    "execution": {
     "iopub.execute_input": "2021-11-15T05:59:32.367197Z",
     "iopub.status.busy": "2021-11-15T05:59:32.366392Z",
     "iopub.status.idle": "2021-11-15T05:59:32.377815Z",
     "shell.execute_reply": "2021-11-15T05:59:32.378225Z",
     "shell.execute_reply.started": "2021-11-14T06:00:57.764528Z"
    },
    "papermill": {
     "duration": 0.058385,
     "end_time": "2021-11-15T05:59:32.378362",
     "exception": false,
     "start_time": "2021-11-15T05:59:32.319977",
     "status": "completed"
    },
    "tags": []
   },
   "outputs": [],
   "source": [
    "model_sub = nn.Sequential(model_sub3,nn.Linear(1000,1),nn.ReLU())\n",
    "model_sub = model_sub.to(device)"
   ]
  },
  {
   "cell_type": "code",
   "execution_count": null,
   "id": "9dba15c8",
   "metadata": {
    "papermill": {
     "duration": 0.041943,
     "end_time": "2021-11-15T05:59:32.462288",
     "exception": false,
     "start_time": "2021-11-15T05:59:32.420345",
     "status": "completed"
    },
    "tags": []
   },
   "outputs": [],
   "source": []
  },
  {
   "cell_type": "code",
   "execution_count": 29,
   "id": "c52c0c4d",
   "metadata": {
    "execution": {
     "iopub.execute_input": "2021-11-15T05:59:32.554418Z",
     "iopub.status.busy": "2021-11-15T05:59:32.553680Z",
     "iopub.status.idle": "2021-11-15T09:59:46.671559Z",
     "shell.execute_reply": "2021-11-15T09:59:46.671999Z",
     "shell.execute_reply.started": "2021-11-14T06:01:01.149199Z"
    },
    "papermill": {
     "duration": 14414.167896,
     "end_time": "2021-11-15T09:59:46.672183",
     "exception": false,
     "start_time": "2021-11-15T05:59:32.504287",
     "status": "completed"
    },
    "tags": []
   },
   "outputs": [
    {
     "name": "stdout",
     "output_type": "stream",
     "text": [
      "Epoch: 0\t100.00%\r\n",
      "Epoch: 0\t100.00 %\r\n",
      "Epoch: 0 \tTraining Loss: 20.7960 \tValidation Loss: 19.7861\n",
      "Training complete in 6m 17s\n",
      "Best val Loss: 19.786065\n",
      "Epoch: 1\t100.00%\r\n",
      "Epoch: 1\t100.00 %\r\n",
      "Epoch: 1 \tTraining Loss: 19.4370 \tValidation Loss: 19.9299\n",
      "Training complete in 11m 45s\n",
      "Best val Loss: 19.786065\n",
      "Epoch: 2\t100.00%\r\n",
      "Epoch: 2\t100.00 %\r\n",
      "Epoch: 2 \tTraining Loss: 19.2954 \tValidation Loss: 19.4320\n",
      "Training complete in 17m 11s\n",
      "Best val Loss: 19.431973\n",
      "Epoch: 3\t100.00%\r\n",
      "Epoch: 3\t100.00 %\r\n",
      "Epoch: 3 \tTraining Loss: 19.1082 \tValidation Loss: 20.0599\n",
      "Training complete in 22m 38s\n",
      "Best val Loss: 19.431973\n",
      "Epoch: 4\t100.00%\r\n",
      "Epoch: 4\t100.00 %\r\n",
      "Epoch: 4 \tTraining Loss: 19.1709 \tValidation Loss: 19.4521\n",
      "Training complete in 28m 7s\n",
      "Best val Loss: 19.431973\n",
      "Epoch: 5\t100.00%\r\n",
      "Epoch: 5\t100.00 %\r\n",
      "Epoch: 5 \tTraining Loss: 18.9975 \tValidation Loss: 19.2056\n",
      "Training complete in 33m 36s\n",
      "Best val Loss: 19.205629\n",
      "Epoch: 6\t100.00%\r\n",
      "Epoch: 6\t100.00 %\r\n",
      "Epoch: 6 \tTraining Loss: 18.9152 \tValidation Loss: 19.7204\n",
      "Training complete in 39m 4s\n",
      "Best val Loss: 19.205629\n",
      "Epoch: 7\t100.00%\r\n",
      "Epoch: 7\t100.00 %\r\n",
      "Epoch: 7 \tTraining Loss: 18.8822 \tValidation Loss: 19.5974\n",
      "Training complete in 44m 35s\n",
      "Best val Loss: 19.205629\n",
      "Epoch: 8\t100.00%\r\n",
      "Epoch: 8\t100.00 %\r\n",
      "Epoch: 8 \tTraining Loss: 18.9202 \tValidation Loss: 19.4089\n",
      "Training complete in 50m 4s\n",
      "Best val Loss: 19.205629\n",
      "Epoch: 9\t100.00%\r\n",
      "Epoch: 9\t100.00 %\r\n",
      "Epoch: 9 \tTraining Loss: 18.9674 \tValidation Loss: 19.6819\n",
      "Training complete in 55m 34s\n",
      "Best val Loss: 19.205629\n",
      "Epoch: 10\t100.00%\r\n",
      "Epoch: 10\t100.00 %\r\n",
      "Epoch: 10 \tTraining Loss: 18.8009 \tValidation Loss: 19.3287\n",
      "Training complete in 61m 4s\n",
      "Best val Loss: 19.205629\n",
      "Epoch: 11\t100.00%\r\n",
      "Epoch: 11\t100.00 %\r\n",
      "Epoch: 11 \tTraining Loss: 18.8097 \tValidation Loss: 19.8855\n",
      "Training complete in 66m 34s\n",
      "Best val Loss: 19.205629\n",
      "Epoch: 12\t100.00%\r\n",
      "Epoch: 12\t100.00 %\r\n",
      "Epoch: 12 \tTraining Loss: 18.8109 \tValidation Loss: 19.3501\n",
      "Training complete in 72m 2s\n",
      "Best val Loss: 19.205629\n",
      "Epoch: 13\t100.00%\r\n",
      "Epoch: 13\t100.00 %\r\n",
      "Epoch: 13 \tTraining Loss: 18.7621 \tValidation Loss: 19.4324\n",
      "Training complete in 77m 31s\n",
      "Best val Loss: 19.205629\n",
      "Epoch: 14\t100.00%\r\n",
      "Epoch: 14\t100.00 %\r\n",
      "Epoch: 14 \tTraining Loss: 18.7771 \tValidation Loss: 19.4360\n",
      "Training complete in 83m 0s\n",
      "Best val Loss: 19.205629\n",
      "Epoch: 15\t100.00%\r\n",
      "Epoch: 15\t100.00 %\r\n",
      "Epoch: 15 \tTraining Loss: 18.7997 \tValidation Loss: 19.9363\n",
      "Training complete in 88m 30s\n",
      "Best val Loss: 19.205629\n",
      "Epoch: 16\t100.00%\r\n",
      "Epoch: 16\t100.00 %\r\n",
      "Epoch: 16 \tTraining Loss: 18.8249 \tValidation Loss: 19.5056\n",
      "Training complete in 94m 1s\n",
      "Best val Loss: 19.205629\n",
      "Epoch: 17\t100.00%\r\n",
      "Epoch: 17\t100.00 %\r\n",
      "Epoch: 17 \tTraining Loss: 18.7568 \tValidation Loss: 19.6996\n",
      "Training complete in 99m 34s\n",
      "Best val Loss: 19.205629\n",
      "Epoch: 18\t100.00%\r\n",
      "Epoch: 18\t100.00 %\r\n",
      "Epoch: 18 \tTraining Loss: 18.6576 \tValidation Loss: 19.5094\n",
      "Training complete in 105m 7s\n",
      "Best val Loss: 19.205629\n",
      "Epoch: 19\t100.00%\r\n",
      "Epoch: 19\t100.00 %\r\n",
      "Epoch: 19 \tTraining Loss: 18.6362 \tValidation Loss: 19.6325\n",
      "Training complete in 110m 41s\n",
      "Best val Loss: 19.205629\n",
      "Epoch: 20\t100.00%\r\n",
      "Epoch: 20\t100.00 %\r\n",
      "Epoch: 20 \tTraining Loss: 18.7260 \tValidation Loss: 19.4763\n",
      "Training complete in 116m 15s\n",
      "Best val Loss: 19.205629\n",
      "Epoch: 21\t100.00%\r\n",
      "Epoch: 21\t100.00 %\r\n",
      "Epoch: 21 \tTraining Loss: 18.6181 \tValidation Loss: 19.3039\n",
      "Training complete in 121m 50s\n",
      "Best val Loss: 19.205629\n",
      "Epoch: 22\t100.00%\r\n",
      "Epoch: 22\t100.00 %\r\n",
      "Epoch: 22 \tTraining Loss: 18.7423 \tValidation Loss: 19.2163\n",
      "Training complete in 127m 24s\n",
      "Best val Loss: 19.205629\n",
      "Epoch: 23\t100.00%\r\n",
      "Epoch: 23\t100.00 %\r\n",
      "Epoch: 23 \tTraining Loss: 18.7055 \tValidation Loss: 19.6733\n",
      "Training complete in 132m 58s\n",
      "Best val Loss: 19.205629\n",
      "Epoch: 24\t100.00%\r\n",
      "Epoch: 24\t100.00 %\r\n",
      "Epoch: 24 \tTraining Loss: 18.6963 \tValidation Loss: 19.5509\n",
      "Training complete in 138m 34s\n",
      "Best val Loss: 19.205629\n",
      "Epoch: 25\t100.00%\r\n",
      "Epoch: 25\t100.00 %\r\n",
      "Epoch: 25 \tTraining Loss: 18.7045 \tValidation Loss: 19.9279\n",
      "Training complete in 144m 11s\n",
      "Best val Loss: 19.205629\n",
      "Epoch: 26\t100.00%\r\n",
      "Epoch: 26\t100.00 %\r\n",
      "Epoch: 26 \tTraining Loss: 18.7188 \tValidation Loss: 19.8223\n",
      "Training complete in 149m 47s\n",
      "Best val Loss: 19.205629\n",
      "Epoch: 27\t100.00%\r\n",
      "Epoch: 27\t100.00 %\r\n",
      "Epoch: 27 \tTraining Loss: 18.6514 \tValidation Loss: 19.4537\n",
      "Training complete in 155m 24s\n",
      "Best val Loss: 19.205629\n",
      "Epoch: 28\t100.00%\r\n",
      "Epoch: 28\t100.00 %\r\n",
      "Epoch: 28 \tTraining Loss: 18.6931 \tValidation Loss: 19.7436\n",
      "Training complete in 161m 0s\n",
      "Best val Loss: 19.205629\n",
      "Epoch: 29\t100.00%\r\n",
      "Epoch: 29\t100.00 %\r\n",
      "Epoch: 29 \tTraining Loss: 18.6389 \tValidation Loss: 19.4365\n",
      "Training complete in 166m 39s\n",
      "Best val Loss: 19.205629\n",
      "Epoch: 30\t100.00%\r\n",
      "Epoch: 30\t100.00 %\r\n",
      "Epoch: 30 \tTraining Loss: 18.6446 \tValidation Loss: 20.2350\n",
      "Training complete in 172m 17s\n",
      "Best val Loss: 19.205629\n",
      "Epoch: 31\t100.00%\r\n",
      "Epoch: 31\t100.00 %\r\n",
      "Epoch: 31 \tTraining Loss: 18.6262 \tValidation Loss: 19.1677\n",
      "Training complete in 177m 56s\n",
      "Best val Loss: 19.167713\n",
      "Epoch: 32\t100.00%\r\n",
      "Epoch: 32\t100.00 %\r\n",
      "Epoch: 32 \tTraining Loss: 18.6983 \tValidation Loss: 19.7854\n",
      "Training complete in 183m 36s\n",
      "Best val Loss: 19.167713\n",
      "Epoch: 33\t100.00%\r\n",
      "Epoch: 33\t100.00 %\r\n",
      "Epoch: 33 \tTraining Loss: 18.6203 \tValidation Loss: 19.6241\n",
      "Training complete in 189m 15s\n",
      "Best val Loss: 19.167713\n",
      "Epoch: 34\t100.00%\r\n",
      "Epoch: 34\t100.00 %\r\n",
      "Epoch: 34 \tTraining Loss: 18.5927 \tValidation Loss: 19.2178\n",
      "Training complete in 194m 52s\n",
      "Best val Loss: 19.167713\n",
      "Epoch: 35\t100.00%\r\n",
      "Epoch: 35\t100.00 %\r\n",
      "Epoch: 35 \tTraining Loss: 18.6356 \tValidation Loss: 19.9057\n",
      "Training complete in 200m 31s\n",
      "Best val Loss: 19.167713\n",
      "Epoch: 36\t100.00%\r\n",
      "Epoch: 36\t100.00 %\r\n",
      "Epoch: 36 \tTraining Loss: 18.5737 \tValidation Loss: 19.1349\n",
      "Training complete in 206m 13s\n",
      "Best val Loss: 19.134894\n",
      "Epoch: 37\t100.00%\r\n",
      "Epoch: 37\t100.00 %\r\n",
      "Epoch: 37 \tTraining Loss: 18.5839 \tValidation Loss: 19.3031\n",
      "Training complete in 211m 53s\n",
      "Best val Loss: 19.134894\n",
      "Epoch: 38\t100.00%\r\n",
      "Epoch: 38\t100.00 %\r\n",
      "Epoch: 38 \tTraining Loss: 18.5998 \tValidation Loss: 19.2100\n",
      "Training complete in 217m 33s\n",
      "Best val Loss: 19.134894\n",
      "Epoch: 39\t100.00%\r\n",
      "Epoch: 39\t100.00 %\r\n",
      "Epoch: 39 \tTraining Loss: 18.5149 \tValidation Loss: 19.3832\n",
      "Training complete in 223m 13s\n",
      "Best val Loss: 19.134894\n",
      "Epoch: 40\t100.00%\r\n",
      "Epoch: 40\t100.00 %\r\n",
      "Epoch: 40 \tTraining Loss: 18.6546 \tValidation Loss: 19.4489\n",
      "Training complete in 228m 52s\n",
      "Best val Loss: 19.134894\n",
      "Epoch: 41\t100.00%\r\n",
      "Epoch: 41\t100.00 %\r\n",
      "Epoch: 41 \tTraining Loss: 18.4835 \tValidation Loss: 19.4711\n",
      "Training complete in 234m 33s\n",
      "Best val Loss: 19.134894\n",
      "Epoch: 42\t100.00%\r\n",
      "Epoch: 42\t100.00 %\r\n",
      "Epoch: 42 \tTraining Loss: 18.6032 \tValidation Loss: 19.5638\n",
      "Training complete in 240m 14s\n",
      "Best val Loss: 19.134894\n",
      "CPU times: user 3h 49min 15s, sys: 3min 25s, total: 3h 52min 41s\n",
      "Wall time: 4h 14s\n"
     ]
    }
   ],
   "source": [
    "%%time\n",
    "\n",
    "optimizer_sub = optim.SGD(model_sub.parameters(), lr=0.001)\n",
    "criterion_sub = nn.MSELoss()\n",
    "\n",
    "\n",
    "model_sub1 = train_model2(model_sub,criterion_sub, optimizer_sub,num_epochs=43)"
   ]
  },
  {
   "cell_type": "code",
   "execution_count": 30,
   "id": "906cd6ba",
   "metadata": {
    "execution": {
     "iopub.execute_input": "2021-11-15T09:59:50.689010Z",
     "iopub.status.busy": "2021-11-15T09:59:50.671787Z",
     "iopub.status.idle": "2021-11-15T09:59:51.031541Z",
     "shell.execute_reply": "2021-11-15T09:59:51.030986Z"
    },
    "papermill": {
     "duration": 2.57769,
     "end_time": "2021-11-15T09:59:51.031671",
     "exception": false,
     "start_time": "2021-11-15T09:59:48.453981",
     "status": "completed"
    },
    "tags": []
   },
   "outputs": [],
   "source": [
    "torch.save(model_sub1,'./DenseNet201_lin_trained.pth')"
   ]
  },
  {
   "cell_type": "code",
   "execution_count": 31,
   "id": "8b8aa67e",
   "metadata": {
    "execution": {
     "iopub.execute_input": "2021-11-15T09:59:54.850292Z",
     "iopub.status.busy": "2021-11-15T09:59:54.849345Z",
     "iopub.status.idle": "2021-11-15T09:59:54.851344Z",
     "shell.execute_reply": "2021-11-15T09:59:54.851738Z",
     "shell.execute_reply.started": "2021-11-14T06:10:44.706676Z"
    },
    "papermill": {
     "duration": 1.75666,
     "end_time": "2021-11-15T09:59:54.851883",
     "exception": false,
     "start_time": "2021-11-15T09:59:53.095223",
     "status": "completed"
    },
    "tags": []
   },
   "outputs": [],
   "source": [
    "#outputs = model_sub1(validation_dataloader)"
   ]
  },
  {
   "cell_type": "code",
   "execution_count": 32,
   "id": "babe777d",
   "metadata": {
    "execution": {
     "iopub.execute_input": "2021-11-15T09:59:58.334761Z",
     "iopub.status.busy": "2021-11-15T09:59:58.333837Z",
     "iopub.status.idle": "2021-11-15T09:59:58.335526Z",
     "shell.execute_reply": "2021-11-15T09:59:58.336004Z",
     "shell.execute_reply.started": "2021-11-12T12:45:29.07286Z"
    },
    "papermill": {
     "duration": 1.753883,
     "end_time": "2021-11-15T09:59:58.336166",
     "exception": false,
     "start_time": "2021-11-15T09:59:56.582283",
     "status": "completed"
    },
    "tags": []
   },
   "outputs": [],
   "source": [
    "# %%time\n",
    "# for iter2,(inputs,labels) in enumerate(validation_dataloader):\n",
    "                \n",
    "#                 inputs = inputs.to(device)\n",
    "#                 inputs = inputs.type(torch.float)\n",
    "#                 labels = labels.to(device).view(labels.shape[0],1)\n",
    "#                 labels = labels.type(torch.float)\n",
    "                \n",
    "#                 output2 = model_sub1(inputs)\n",
    "                \n",
    "                \n",
    "                \n",
    "# for i in range(len(output2)):\n",
    "    \n",
    "#     print(output2[i],i)\n",
    "        \n",
    "        \n",
    "        \n",
    "        \n",
    "        \n"
   ]
  },
  {
   "cell_type": "code",
   "execution_count": null,
   "id": "a8b1a220",
   "metadata": {
    "papermill": {
     "duration": 1.75543,
     "end_time": "2021-11-15T10:00:01.814680",
     "exception": false,
     "start_time": "2021-11-15T10:00:00.059250",
     "status": "completed"
    },
    "tags": []
   },
   "outputs": [],
   "source": []
  },
  {
   "cell_type": "code",
   "execution_count": 33,
   "id": "2cc08b33",
   "metadata": {
    "execution": {
     "iopub.execute_input": "2021-11-15T10:00:05.620575Z",
     "iopub.status.busy": "2021-11-15T10:00:05.619632Z",
     "iopub.status.idle": "2021-11-15T10:00:05.622194Z",
     "shell.execute_reply": "2021-11-15T10:00:05.622748Z",
     "shell.execute_reply.started": "2021-11-12T12:45:31.398363Z"
    },
    "papermill": {
     "duration": 1.812804,
     "end_time": "2021-11-15T10:00:05.622908",
     "exception": false,
     "start_time": "2021-11-15T10:00:03.810104",
     "status": "completed"
    },
    "tags": []
   },
   "outputs": [],
   "source": [
    "# train_csv['Model_output'] = 0\n",
    "# #train_csv['Model_output'][train_indices] = output2\n",
    "# loss=0.0\n",
    "# loss_item=0.0\n",
    "# op=0\n",
    "# for i in train_indices:\n",
    "#     loss_item=np.sqrt(np.square(train_csv['Pawpularity'])-np.square(train_csv['Model_output']))\n",
    "#     if (loss_item==0):\n",
    "#         op+=1\n",
    "#     loss += loss_item\n",
    "    \n",
    "# loss/= (len(validation_dataloader)*64)\n",
    "# print(loss)\n",
    "# print(op)"
   ]
  },
  {
   "cell_type": "code",
   "execution_count": 34,
   "id": "e9b558aa",
   "metadata": {
    "execution": {
     "iopub.execute_input": "2021-11-15T10:00:09.149864Z",
     "iopub.status.busy": "2021-11-15T10:00:09.146714Z",
     "iopub.status.idle": "2021-11-15T10:00:09.243186Z",
     "shell.execute_reply": "2021-11-15T10:00:09.243675Z",
     "shell.execute_reply.started": "2021-11-14T06:22:37.298454Z"
    },
    "papermill": {
     "duration": 1.868452,
     "end_time": "2021-11-15T10:00:09.243841",
     "exception": false,
     "start_time": "2021-11-15T10:00:07.375389",
     "status": "completed"
    },
    "tags": []
   },
   "outputs": [
    {
     "name": "stdout",
     "output_type": "stream",
     "text": [
      "torch.Size([9])\n"
     ]
    }
   ],
   "source": [
    "# with torch.no_grad:\n",
    "model_sub1.eval()\n",
    "out_test = torch.tensor([0.00])\n",
    "\n",
    "for iter2,(inputs,labels) in enumerate(test_dataloader):\n",
    "    \n",
    "    model_sub1.eval()\n",
    "    with torch.no_grad():\n",
    "        inputs = inputs.to(device)\n",
    "        inputs = inputs.type(torch.float)\n",
    "        labels = labels.type(torch.float)\n",
    "        labels = labels.to(device).view(labels.shape[0],1)\n",
    "\n",
    "\n",
    "        output1 = model_sub1(inputs).cpu()\n",
    "        output1 = torch.flatten(output1)\n",
    "        out_test = torch.cat((out_test,output1))\n",
    "        out_test = torch.flatten(out_test)\n",
    "        type(output1)\n",
    "\n",
    "                    \n",
    "        \n",
    "                \n",
    "                    \n",
    "    \n",
    "   \n",
    "                #output1 = torch.mul(output1,100).to(device)\n",
    "                #loss = criterion(output1,labels)\n",
    "                #valid_loss += loss.item() * inputs.size(0)\n",
    "#                 print(\n",
    "#                 f'Epoch: {epoch}\\t{100 * (iter2 + 1) / len(validation_dataloader):.2f}'+' %',\n",
    "#                 end='\\r')\n",
    "\n",
    "    \n",
    "print(out_test.shape)"
   ]
  },
  {
   "cell_type": "code",
   "execution_count": 35,
   "id": "c4f3bb09",
   "metadata": {
    "execution": {
     "iopub.execute_input": "2021-11-15T10:00:12.747336Z",
     "iopub.status.busy": "2021-11-15T10:00:12.746531Z",
     "iopub.status.idle": "2021-11-15T10:00:12.749365Z",
     "shell.execute_reply": "2021-11-15T10:00:12.749774Z",
     "shell.execute_reply.started": "2021-11-14T06:22:38.503597Z"
    },
    "papermill": {
     "duration": 1.775153,
     "end_time": "2021-11-15T10:00:12.749908",
     "exception": false,
     "start_time": "2021-11-15T10:00:10.974755",
     "status": "completed"
    },
    "tags": []
   },
   "outputs": [
    {
     "name": "stdout",
     "output_type": "stream",
     "text": [
      "torch.Size([8])\n"
     ]
    }
   ],
   "source": [
    "out_test = out_test[1:]\n",
    "print(out_test.shape)"
   ]
  },
  {
   "cell_type": "code",
   "execution_count": 36,
   "id": "2a4a84e8",
   "metadata": {
    "execution": {
     "iopub.execute_input": "2021-11-15T10:00:16.563961Z",
     "iopub.status.busy": "2021-11-15T10:00:16.562989Z",
     "iopub.status.idle": "2021-11-15T10:00:16.564737Z",
     "shell.execute_reply": "2021-11-15T10:00:16.565276Z",
     "shell.execute_reply.started": "2021-11-14T06:22:39.758687Z"
    },
    "papermill": {
     "duration": 1.830643,
     "end_time": "2021-11-15T10:00:16.565418",
     "exception": false,
     "start_time": "2021-11-15T10:00:14.734775",
     "status": "completed"
    },
    "tags": []
   },
   "outputs": [],
   "source": [
    "out_test = out_test.numpy().squeeze()"
   ]
  },
  {
   "cell_type": "code",
   "execution_count": 37,
   "id": "78ba2d24",
   "metadata": {
    "execution": {
     "iopub.execute_input": "2021-11-15T10:00:20.109026Z",
     "iopub.status.busy": "2021-11-15T10:00:20.108174Z",
     "iopub.status.idle": "2021-11-15T10:00:20.110523Z",
     "shell.execute_reply": "2021-11-15T10:00:20.109954Z",
     "shell.execute_reply.started": "2021-11-13T19:08:43.525098Z"
    },
    "papermill": {
     "duration": 1.770767,
     "end_time": "2021-11-15T10:00:20.110638",
     "exception": false,
     "start_time": "2021-11-15T10:00:18.339871",
     "status": "completed"
    },
    "tags": []
   },
   "outputs": [],
   "source": [
    "# y_pred_df = pd.DataFrame(np.stack(out_test.cpu().detach().numpy(), axis=0))\n",
    "# y_pred_df[\"mean\"] = y_pred_df.mean(axis=1)"
   ]
  },
  {
   "cell_type": "code",
   "execution_count": 38,
   "id": "4177df9b",
   "metadata": {
    "execution": {
     "iopub.execute_input": "2021-11-15T10:00:24.212767Z",
     "iopub.status.busy": "2021-11-15T10:00:24.211490Z",
     "iopub.status.idle": "2021-11-15T10:00:24.216950Z",
     "shell.execute_reply": "2021-11-15T10:00:24.213741Z"
    },
    "papermill": {
     "duration": 2.327009,
     "end_time": "2021-11-15T10:00:24.217258",
     "exception": false,
     "start_time": "2021-11-15T10:00:21.890249",
     "status": "completed"
    },
    "tags": []
   },
   "outputs": [
    {
     "name": "stdout",
     "output_type": "stream",
     "text": [
      "40.470333\n",
      "42.28342\n",
      "40.627052\n",
      "40.026005\n",
      "40.915253\n",
      "37.410343\n",
      "41.94598\n",
      "42.78678\n"
     ]
    }
   ],
   "source": [
    "for i in out_test:\n",
    "    print(i)"
   ]
  },
  {
   "cell_type": "code",
   "execution_count": 39,
   "id": "c5ba55b1",
   "metadata": {
    "execution": {
     "iopub.execute_input": "2021-11-15T10:00:28.272608Z",
     "iopub.status.busy": "2021-11-15T10:00:28.271628Z",
     "iopub.status.idle": "2021-11-15T10:00:28.273954Z",
     "shell.execute_reply": "2021-11-15T10:00:28.273382Z",
     "shell.execute_reply.started": "2021-11-13T19:08:45.978807Z"
    },
    "papermill": {
     "duration": 1.811771,
     "end_time": "2021-11-15T10:00:28.274078",
     "exception": false,
     "start_time": "2021-11-15T10:00:26.462307",
     "status": "completed"
    },
    "tags": []
   },
   "outputs": [],
   "source": [
    "\n",
    "\n",
    "# y_pred_df.to_csv(\"y_pred.csv\", index=False)\n",
    "\n"
   ]
  },
  {
   "cell_type": "code",
   "execution_count": 40,
   "id": "c483f82a",
   "metadata": {
    "execution": {
     "iopub.execute_input": "2021-11-15T10:00:31.769512Z",
     "iopub.status.busy": "2021-11-15T10:00:31.768856Z",
     "iopub.status.idle": "2021-11-15T10:00:31.781405Z",
     "shell.execute_reply": "2021-11-15T10:00:31.780864Z",
     "shell.execute_reply.started": "2021-11-14T06:22:43.919701Z"
    },
    "papermill": {
     "duration": 1.77026,
     "end_time": "2021-11-15T10:00:31.781541",
     "exception": false,
     "start_time": "2021-11-15T10:00:30.011281",
     "status": "completed"
    },
    "tags": []
   },
   "outputs": [
    {
     "data": {
      "text/html": [
       "<div>\n",
       "<style scoped>\n",
       "    .dataframe tbody tr th:only-of-type {\n",
       "        vertical-align: middle;\n",
       "    }\n",
       "\n",
       "    .dataframe tbody tr th {\n",
       "        vertical-align: top;\n",
       "    }\n",
       "\n",
       "    .dataframe thead th {\n",
       "        text-align: right;\n",
       "    }\n",
       "</style>\n",
       "<table border=\"1\" class=\"dataframe\">\n",
       "  <thead>\n",
       "    <tr style=\"text-align: right;\">\n",
       "      <th></th>\n",
       "      <th>Id</th>\n",
       "      <th>Pawpularity</th>\n",
       "    </tr>\n",
       "  </thead>\n",
       "  <tbody>\n",
       "    <tr>\n",
       "      <th>0</th>\n",
       "      <td>4128bae22183829d2b5fea10effdb0c3</td>\n",
       "      <td>40.470333</td>\n",
       "    </tr>\n",
       "    <tr>\n",
       "      <th>1</th>\n",
       "      <td>43a2262d7738e3d420d453815151079e</td>\n",
       "      <td>42.283421</td>\n",
       "    </tr>\n",
       "    <tr>\n",
       "      <th>2</th>\n",
       "      <td>4e429cead1848a298432a0acad014c9d</td>\n",
       "      <td>40.627052</td>\n",
       "    </tr>\n",
       "    <tr>\n",
       "      <th>3</th>\n",
       "      <td>80bc3ccafcc51b66303c2c263aa38486</td>\n",
       "      <td>40.026005</td>\n",
       "    </tr>\n",
       "    <tr>\n",
       "      <th>4</th>\n",
       "      <td>8f49844c382931444e68dffbe20228f4</td>\n",
       "      <td>40.915253</td>\n",
       "    </tr>\n",
       "    <tr>\n",
       "      <th>5</th>\n",
       "      <td>b03f7041962238a7c9d6537e22f9b017</td>\n",
       "      <td>37.410343</td>\n",
       "    </tr>\n",
       "    <tr>\n",
       "      <th>6</th>\n",
       "      <td>c978013571258ed6d4637f6e8cc9d6a3</td>\n",
       "      <td>41.945980</td>\n",
       "    </tr>\n",
       "    <tr>\n",
       "      <th>7</th>\n",
       "      <td>e0de453c1bffc20c22b072b34b54e50f</td>\n",
       "      <td>42.786781</td>\n",
       "    </tr>\n",
       "  </tbody>\n",
       "</table>\n",
       "</div>"
      ],
      "text/plain": [
       "                                 Id  Pawpularity\n",
       "0  4128bae22183829d2b5fea10effdb0c3    40.470333\n",
       "1  43a2262d7738e3d420d453815151079e    42.283421\n",
       "2  4e429cead1848a298432a0acad014c9d    40.627052\n",
       "3  80bc3ccafcc51b66303c2c263aa38486    40.026005\n",
       "4  8f49844c382931444e68dffbe20228f4    40.915253\n",
       "5  b03f7041962238a7c9d6537e22f9b017    37.410343\n",
       "6  c978013571258ed6d4637f6e8cc9d6a3    41.945980\n",
       "7  e0de453c1bffc20c22b072b34b54e50f    42.786781"
      ]
     },
     "execution_count": 40,
     "metadata": {},
     "output_type": "execute_result"
    }
   ],
   "source": [
    "\n",
    "\n",
    "submission[\"Pawpularity\"] = out_test\n",
    "submission.to_csv(\"submission.csv\", index=False)\n",
    "submission\n",
    "\n"
   ]
  },
  {
   "cell_type": "code",
   "execution_count": null,
   "id": "0540b27e",
   "metadata": {
    "papermill": {
     "duration": 1.781388,
     "end_time": "2021-11-15T10:00:35.354741",
     "exception": false,
     "start_time": "2021-11-15T10:00:33.573353",
     "status": "completed"
    },
    "tags": []
   },
   "outputs": [],
   "source": []
  },
  {
   "cell_type": "code",
   "execution_count": null,
   "id": "32758bae",
   "metadata": {
    "papermill": {
     "duration": 1.872814,
     "end_time": "2021-11-15T10:00:39.325845",
     "exception": false,
     "start_time": "2021-11-15T10:00:37.453031",
     "status": "completed"
    },
    "tags": []
   },
   "outputs": [],
   "source": []
  },
  {
   "cell_type": "code",
   "execution_count": null,
   "id": "23f4042c",
   "metadata": {
    "papermill": {
     "duration": 1.756309,
     "end_time": "2021-11-15T10:00:42.836030",
     "exception": false,
     "start_time": "2021-11-15T10:00:41.079721",
     "status": "completed"
    },
    "tags": []
   },
   "outputs": [],
   "source": []
  },
  {
   "cell_type": "code",
   "execution_count": 41,
   "id": "a7f40c7d",
   "metadata": {
    "execution": {
     "iopub.execute_input": "2021-11-15T10:00:46.410522Z",
     "iopub.status.busy": "2021-11-15T10:00:46.409867Z",
     "iopub.status.idle": "2021-11-15T10:00:46.412645Z",
     "shell.execute_reply": "2021-11-15T10:00:46.413051Z",
     "shell.execute_reply.started": "2021-11-14T06:23:31.878878Z"
    },
    "papermill": {
     "duration": 1.827367,
     "end_time": "2021-11-15T10:00:46.413200",
     "exception": false,
     "start_time": "2021-11-15T10:00:44.585833",
     "status": "completed"
    },
    "tags": []
   },
   "outputs": [
    {
     "data": {
      "text/plain": [
       "40.470333"
      ]
     },
     "execution_count": 41,
     "metadata": {},
     "output_type": "execute_result"
    }
   ],
   "source": [
    "out_test[0]"
   ]
  },
  {
   "cell_type": "code",
   "execution_count": 42,
   "id": "869cdc78",
   "metadata": {
    "execution": {
     "iopub.execute_input": "2021-11-15T10:00:50.257575Z",
     "iopub.status.busy": "2021-11-15T10:00:50.256774Z",
     "iopub.status.idle": "2021-11-15T10:00:50.259611Z",
     "shell.execute_reply": "2021-11-15T10:00:50.260090Z",
     "shell.execute_reply.started": "2021-11-14T06:23:32.938301Z"
    },
    "papermill": {
     "duration": 1.805937,
     "end_time": "2021-11-15T10:00:50.260282",
     "exception": false,
     "start_time": "2021-11-15T10:00:48.454345",
     "status": "completed"
    },
    "tags": []
   },
   "outputs": [
    {
     "data": {
      "text/plain": [
       "tensor(23)"
      ]
     },
     "execution_count": 42,
     "metadata": {},
     "output_type": "execute_result"
    }
   ],
   "source": [
    "valid_label[0]"
   ]
  },
  {
   "cell_type": "code",
   "execution_count": null,
   "id": "ce17efc2",
   "metadata": {
    "papermill": {
     "duration": 1.774209,
     "end_time": "2021-11-15T10:00:53.810282",
     "exception": false,
     "start_time": "2021-11-15T10:00:52.036073",
     "status": "completed"
    },
    "tags": []
   },
   "outputs": [],
   "source": []
  },
  {
   "cell_type": "code",
   "execution_count": 43,
   "id": "6e995f3a",
   "metadata": {
    "execution": {
     "iopub.execute_input": "2021-11-15T10:00:57.720722Z",
     "iopub.status.busy": "2021-11-15T10:00:57.719816Z",
     "iopub.status.idle": "2021-11-15T10:00:57.722067Z",
     "shell.execute_reply": "2021-11-15T10:00:57.721549Z",
     "shell.execute_reply.started": "2021-11-13T19:09:01.197523Z"
    },
    "papermill": {
     "duration": 2.181811,
     "end_time": "2021-11-15T10:00:57.722204",
     "exception": false,
     "start_time": "2021-11-15T10:00:55.540393",
     "status": "completed"
    },
    "tags": []
   },
   "outputs": [],
   "source": [
    "# for i in range(0,len(out_test)):\n",
    "#     submission.Pawpularity[i] = out_test[i]\n",
    "#     print(output1[i])\n",
    "#     print(i)\n",
    "    \n",
    "    \n",
    "\n",
    "\n",
    "# #print(model_sub1)"
   ]
  },
  {
   "cell_type": "code",
   "execution_count": 44,
   "id": "e2ea9267",
   "metadata": {
    "execution": {
     "iopub.execute_input": "2021-11-15T10:01:01.487681Z",
     "iopub.status.busy": "2021-11-15T10:01:01.486952Z",
     "iopub.status.idle": "2021-11-15T10:01:01.489018Z",
     "shell.execute_reply": "2021-11-15T10:01:01.488437Z",
     "shell.execute_reply.started": "2021-11-13T19:09:01.96846Z"
    },
    "papermill": {
     "duration": 1.760653,
     "end_time": "2021-11-15T10:01:01.489176",
     "exception": false,
     "start_time": "2021-11-15T10:00:59.728523",
     "status": "completed"
    },
    "tags": []
   },
   "outputs": [],
   "source": [
    "# for i in range(8):\n",
    "#     print(submission.Pawpularity[i])"
   ]
  },
  {
   "cell_type": "code",
   "execution_count": 45,
   "id": "f7664ce4",
   "metadata": {
    "execution": {
     "iopub.execute_input": "2021-11-15T10:01:05.097967Z",
     "iopub.status.busy": "2021-11-15T10:01:05.096970Z",
     "iopub.status.idle": "2021-11-15T10:01:05.099327Z",
     "shell.execute_reply": "2021-11-15T10:01:05.098774Z",
     "shell.execute_reply.started": "2021-11-13T19:09:02.290552Z"
    },
    "papermill": {
     "duration": 1.735609,
     "end_time": "2021-11-15T10:01:05.099447",
     "exception": false,
     "start_time": "2021-11-15T10:01:03.363838",
     "status": "completed"
    },
    "tags": []
   },
   "outputs": [],
   "source": [
    "\n",
    "# submission.to_csv(\"submission.csv\", index = False)\n",
    "# print(\"Submission Success\")"
   ]
  },
  {
   "cell_type": "code",
   "execution_count": null,
   "id": "db45bc38",
   "metadata": {
    "papermill": {
     "duration": 1.785935,
     "end_time": "2021-11-15T10:01:08.635600",
     "exception": false,
     "start_time": "2021-11-15T10:01:06.849665",
     "status": "completed"
    },
    "tags": []
   },
   "outputs": [],
   "source": []
  }
 ],
 "metadata": {
  "kernelspec": {
   "display_name": "Python 3",
   "language": "python",
   "name": "python3"
  },
  "language_info": {
   "codemirror_mode": {
    "name": "ipython",
    "version": 3
   },
   "file_extension": ".py",
   "mimetype": "text/x-python",
   "name": "python",
   "nbconvert_exporter": "python",
   "pygments_lexer": "ipython3",
   "version": "3.7.10"
  },
  "papermill": {
   "default_parameters": {},
   "duration": 14524.165436,
   "end_time": "2021-11-15T10:01:12.811414",
   "environment_variables": {},
   "exception": null,
   "input_path": "__notebook__.ipynb",
   "output_path": "__notebook__.ipynb",
   "parameters": {},
   "start_time": "2021-11-15T05:59:08.645978",
   "version": "2.3.3"
  }
 },
 "nbformat": 4,
 "nbformat_minor": 5
}
