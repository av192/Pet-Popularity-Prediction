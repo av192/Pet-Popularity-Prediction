{
 "cells": [
  {
   "cell_type": "code",
   "execution_count": 1,
   "id": "2f8da577",
   "metadata": {
    "_cell_guid": "b1076dfc-b9ad-4769-8c92-a6c4dae69d19",
    "_uuid": "8f2839f25d086af736a60e9eeb907d3b93b6e0e5",
    "execution": {
     "iopub.execute_input": "2021-12-09T09:08:08.761255Z",
     "iopub.status.busy": "2021-12-09T09:08:08.759642Z",
     "iopub.status.idle": "2021-12-09T09:08:08.770161Z",
     "shell.execute_reply": "2021-12-09T09:08:08.769644Z",
     "shell.execute_reply.started": "2021-12-09T09:07:26.415237Z"
    },
    "papermill": {
     "duration": 0.022781,
     "end_time": "2021-12-09T09:08:08.770310",
     "exception": false,
     "start_time": "2021-12-09T09:08:08.747529",
     "status": "completed"
    },
    "tags": []
   },
   "outputs": [],
   "source": [
    "# This Python 3 environment comes with many helpful analytics libraries installed\n",
    "# It is defined by the kaggle/python Docker image: https://github.com/kaggle/docker-python\n",
    "# For example, here's several helpful packages to load\n",
    "\n",
    "import numpy as np # linear algebra\n",
    "import pandas as pd # data processing, CSV file I/O (e.g. pd.read_csv)\n",
    "\n",
    "# Input data files are available in the read-only \"../input/\" directory\n",
    "# For example, running this (by clicking run or pressing Shift+Enter) will list all files under the input directory\n",
    "\n",
    "import os\n",
    "#for dirname, _, filenames in os.walk('/kaggle/input'):\n",
    "    #for filename in filenames:\n",
    "        #print(os.path.join(dirname, filename))\n",
    "\n",
    "# You can write up to 20GB to the current directory (/kaggle/working/) that gets preserved as output when you create a version using \"Save & Run All\" \n",
    "# You can also write temporary files to /kaggle/temp/, but they won't be saved outside of the current session"
   ]
  },
  {
   "cell_type": "code",
   "execution_count": 2,
   "id": "1ef6b9a5",
   "metadata": {
    "execution": {
     "iopub.execute_input": "2021-12-09T09:08:08.793840Z",
     "iopub.status.busy": "2021-12-09T09:08:08.787081Z",
     "iopub.status.idle": "2021-12-09T09:08:11.686346Z",
     "shell.execute_reply": "2021-12-09T09:08:11.686837Z",
     "shell.execute_reply.started": "2021-12-09T09:07:26.426710Z"
    },
    "papermill": {
     "duration": 2.90919,
     "end_time": "2021-12-09T09:08:11.686997",
     "exception": false,
     "start_time": "2021-12-09T09:08:08.777807",
     "status": "completed"
    },
    "tags": []
   },
   "outputs": [],
   "source": [
    "\n",
    "\n",
    "import numpy as np # linear algebra\n",
    "import pandas as pd # data processing, CSV file I/O (e.g. pd.read_csv)\n",
    "import os\n",
    "import torch\n",
    "import torchvision\n",
    "import sklearn\n",
    "%matplotlib inline\n",
    "import matplotlib.pyplot as plt\n",
    "import seaborn as sns\n",
    "import torch.nn as nn\n",
    "from torch.utils.data import Dataset, DataLoader\n",
    "import torchvision.transforms as transforms\n",
    "from torchvision.io import read_image\n",
    "import math\n",
    "\n",
    "test_csv = pd.read_csv('../input/petfinder-pawpularity-score/test.csv')\n",
    "submission = pd.read_csv('../input/petfinder-pawpularity-score/sample_submission.csv')\n",
    "\n",
    "test_dir = '../input/petfinder-pawpularity-score/test/'\n",
    "\n",
    "def create_path(df,root_dir):\n",
    "    df['Path'] = df['Id'].apply(lambda x: root_dir+x+'.jpg')\n",
    "    \n",
    "    \n",
    "    \n",
    "    \n",
    "create_path(test_csv,test_dir)\n",
    "\n",
    "# Create Label column (used later)\n",
    "test_csv['Pawpularity'] = 0    "
   ]
  },
  {
   "cell_type": "code",
   "execution_count": 3,
   "id": "3842f76c",
   "metadata": {
    "execution": {
     "iopub.execute_input": "2021-12-09T09:08:11.711852Z",
     "iopub.status.busy": "2021-12-09T09:08:11.710089Z",
     "iopub.status.idle": "2021-12-09T09:08:11.712463Z",
     "shell.execute_reply": "2021-12-09T09:08:11.712877Z",
     "shell.execute_reply.started": "2021-12-09T09:07:28.673389Z"
    },
    "papermill": {
     "duration": 0.018714,
     "end_time": "2021-12-09T09:08:11.712996",
     "exception": false,
     "start_time": "2021-12-09T09:08:11.694282",
     "status": "completed"
    },
    "tags": []
   },
   "outputs": [],
   "source": [
    "class CustomDataSet(Dataset):\n",
    "    \n",
    "    def __init__(self,csv_file,transform=None,augment_transform=None,root_dir ='../input/petfinder-pawpularity-score/train/' ):\n",
    "        self.csv_file = csv_file\n",
    "        self.transform = transform\n",
    "        self.augment_trans = augment_transform\n",
    "        self.root_dir = root_dir\n",
    "        self.img_paths = self._get_img_paths(self.csv_file, root_dir)\n",
    "        \n",
    "    def __len__(self):\n",
    "        return int(self.csv_file.shape[0])\n",
    "    \n",
    "    def __getitem__(self,idx):\n",
    "        img_path = self.img_paths[idx]\n",
    "        image = read_image(img_path)\n",
    "        label = self.csv_file.Pawpularity.iloc[idx]\n",
    "        image = image.type(torch.FloatTensor)\n",
    "        \n",
    "        if self.transform:\n",
    "            image = self.transform(image)\n",
    "        if self.augment_trans:\n",
    "            image = self.augment_transform(image)\n",
    "           \n",
    "        image = torch.mul(image, (1/255))\n",
    "        return image,label\n",
    "    \n",
    "    def _get_img_paths(self,csv_file,root_dir):\n",
    "        imgs = csv_file['Id'].apply(lambda x: root_dir+x+'.jpg').tolist()\n",
    "        return imgs"
   ]
  },
  {
   "cell_type": "code",
   "execution_count": 4,
   "id": "9f36b7a4",
   "metadata": {
    "execution": {
     "iopub.execute_input": "2021-12-09T09:08:11.784973Z",
     "iopub.status.busy": "2021-12-09T09:08:11.784005Z",
     "iopub.status.idle": "2021-12-09T09:08:11.787685Z",
     "shell.execute_reply": "2021-12-09T09:08:11.788285Z",
     "shell.execute_reply.started": "2021-12-09T09:07:28.684798Z"
    },
    "papermill": {
     "duration": 0.068205,
     "end_time": "2021-12-09T09:08:11.788488",
     "exception": false,
     "start_time": "2021-12-09T09:08:11.720283",
     "status": "completed"
    },
    "tags": []
   },
   "outputs": [
    {
     "name": "stdout",
     "output_type": "stream",
     "text": [
      "cuda:0\n"
     ]
    }
   ],
   "source": [
    "normalize = transforms.Normalize(mean=[0.485, 0.456, 0.406],\n",
    "                                     std=[0.229, 0.224, 0.225])\n",
    "transform = transforms.Compose([\n",
    "                                normalize,\n",
    "                                transforms.Resize(255),\n",
    "                                transforms.CenterCrop(224)])\n",
    "test_data = CustomDataSet(test_csv,transform,root_dir = test_dir)\n",
    "test_dataloader = DataLoader(test_data,batch_size=64,shuffle=True)\n",
    "\n",
    "\n",
    "device = torch.device('cuda:0' if torch.cuda.is_available() else 'cpu')\n",
    "print(device)\n"
   ]
  },
  {
   "cell_type": "code",
   "execution_count": 5,
   "id": "90d146cb",
   "metadata": {
    "execution": {
     "iopub.execute_input": "2021-12-09T09:08:11.808368Z",
     "iopub.status.busy": "2021-12-09T09:08:11.807763Z",
     "iopub.status.idle": "2021-12-09T09:08:17.349465Z",
     "shell.execute_reply": "2021-12-09T09:08:17.348821Z",
     "shell.execute_reply.started": "2021-12-09T09:07:28.741473Z"
    },
    "papermill": {
     "duration": 5.552438,
     "end_time": "2021-12-09T09:08:17.349589",
     "exception": false,
     "start_time": "2021-12-09T09:08:11.797151",
     "status": "completed"
    },
    "tags": []
   },
   "outputs": [],
   "source": [
    "model_sub1 = torch.load('../input/kfold-pet1/ResNet50_lin_trained_KFOLD1.pth',map_location=torch.device(device)).cuda()\n",
    "model_sub1 = model_sub1.to(device)"
   ]
  },
  {
   "cell_type": "code",
   "execution_count": 6,
   "id": "2ac63324",
   "metadata": {
    "execution": {
     "iopub.execute_input": "2021-12-09T09:08:17.378216Z",
     "iopub.status.busy": "2021-12-09T09:08:17.372644Z",
     "iopub.status.idle": "2021-12-09T09:08:23.693694Z",
     "shell.execute_reply": "2021-12-09T09:08:23.694097Z",
     "shell.execute_reply.started": "2021-12-09T09:07:33.372173Z"
    },
    "papermill": {
     "duration": 6.337075,
     "end_time": "2021-12-09T09:08:23.694253",
     "exception": false,
     "start_time": "2021-12-09T09:08:17.357178",
     "status": "completed"
    },
    "tags": []
   },
   "outputs": [
    {
     "name": "stdout",
     "output_type": "stream",
     "text": [
      "torch.Size([8])\n"
     ]
    }
   ],
   "source": [
    "model_sub1.eval()\n",
    "out_test = torch.tensor([0.00])\n",
    "\n",
    "\n",
    "for iter2,(inputs,labels) in enumerate(test_dataloader):\n",
    "    \n",
    "    model_sub1.eval()\n",
    "    with torch.no_grad():\n",
    "        inputs = inputs.to(device)\n",
    "        inputs = inputs.type(torch.float)\n",
    "        labels = labels.type(torch.float)\n",
    "        labels = labels.to(device).view(labels.shape[0],1)\n",
    "\n",
    "\n",
    "        output1 = model_sub1(inputs).cpu()\n",
    "        output1 = torch.flatten(output1)\n",
    "        out_test = torch.cat((out_test,output1))\n",
    "        out_test = torch.flatten(out_test)\n",
    "        type(output1)\n",
    "        \n",
    "        \n",
    "        \n",
    "out_test = out_test[1:]\n",
    "print(out_test.shape)        "
   ]
  },
  {
   "cell_type": "code",
   "execution_count": 7,
   "id": "5b5f9f44",
   "metadata": {
    "execution": {
     "iopub.execute_input": "2021-12-09T09:08:23.714650Z",
     "iopub.status.busy": "2021-12-09T09:08:23.713964Z",
     "iopub.status.idle": "2021-12-09T09:08:23.717348Z",
     "shell.execute_reply": "2021-12-09T09:08:23.717918Z",
     "shell.execute_reply.started": "2021-12-09T09:07:38.889690Z"
    },
    "papermill": {
     "duration": 0.016207,
     "end_time": "2021-12-09T09:08:23.718065",
     "exception": false,
     "start_time": "2021-12-09T09:08:23.701858",
     "status": "completed"
    },
    "tags": []
   },
   "outputs": [
    {
     "name": "stdout",
     "output_type": "stream",
     "text": [
      "47.532135\n",
      "50.13704\n",
      "55.94499\n",
      "51.407402\n",
      "49.696342\n",
      "45.660755\n",
      "51.944515\n",
      "49.79798\n"
     ]
    }
   ],
   "source": [
    "out_test = out_test.numpy().squeeze()\n",
    "\n",
    "\n",
    "for i in out_test:\n",
    "    print(i)\n",
    "\n"
   ]
  },
  {
   "cell_type": "code",
   "execution_count": 8,
   "id": "d3d786d2",
   "metadata": {
    "execution": {
     "iopub.execute_input": "2021-12-09T09:08:23.738923Z",
     "iopub.status.busy": "2021-12-09T09:08:23.738277Z",
     "iopub.status.idle": "2021-12-09T09:08:23.752803Z",
     "shell.execute_reply": "2021-12-09T09:08:23.753199Z",
     "shell.execute_reply.started": "2021-12-09T09:07:38.901097Z"
    },
    "papermill": {
     "duration": 0.02679,
     "end_time": "2021-12-09T09:08:23.753334",
     "exception": false,
     "start_time": "2021-12-09T09:08:23.726544",
     "status": "completed"
    },
    "tags": []
   },
   "outputs": [
    {
     "data": {
      "text/html": [
       "<div>\n",
       "<style scoped>\n",
       "    .dataframe tbody tr th:only-of-type {\n",
       "        vertical-align: middle;\n",
       "    }\n",
       "\n",
       "    .dataframe tbody tr th {\n",
       "        vertical-align: top;\n",
       "    }\n",
       "\n",
       "    .dataframe thead th {\n",
       "        text-align: right;\n",
       "    }\n",
       "</style>\n",
       "<table border=\"1\" class=\"dataframe\">\n",
       "  <thead>\n",
       "    <tr style=\"text-align: right;\">\n",
       "      <th></th>\n",
       "      <th>Id</th>\n",
       "      <th>Pawpularity</th>\n",
       "    </tr>\n",
       "  </thead>\n",
       "  <tbody>\n",
       "    <tr>\n",
       "      <th>0</th>\n",
       "      <td>4128bae22183829d2b5fea10effdb0c3</td>\n",
       "      <td>47.532135</td>\n",
       "    </tr>\n",
       "    <tr>\n",
       "      <th>1</th>\n",
       "      <td>43a2262d7738e3d420d453815151079e</td>\n",
       "      <td>50.137039</td>\n",
       "    </tr>\n",
       "    <tr>\n",
       "      <th>2</th>\n",
       "      <td>4e429cead1848a298432a0acad014c9d</td>\n",
       "      <td>55.944988</td>\n",
       "    </tr>\n",
       "    <tr>\n",
       "      <th>3</th>\n",
       "      <td>80bc3ccafcc51b66303c2c263aa38486</td>\n",
       "      <td>51.407402</td>\n",
       "    </tr>\n",
       "    <tr>\n",
       "      <th>4</th>\n",
       "      <td>8f49844c382931444e68dffbe20228f4</td>\n",
       "      <td>49.696342</td>\n",
       "    </tr>\n",
       "    <tr>\n",
       "      <th>5</th>\n",
       "      <td>b03f7041962238a7c9d6537e22f9b017</td>\n",
       "      <td>45.660755</td>\n",
       "    </tr>\n",
       "    <tr>\n",
       "      <th>6</th>\n",
       "      <td>c978013571258ed6d4637f6e8cc9d6a3</td>\n",
       "      <td>51.944515</td>\n",
       "    </tr>\n",
       "    <tr>\n",
       "      <th>7</th>\n",
       "      <td>e0de453c1bffc20c22b072b34b54e50f</td>\n",
       "      <td>49.797981</td>\n",
       "    </tr>\n",
       "  </tbody>\n",
       "</table>\n",
       "</div>"
      ],
      "text/plain": [
       "                                 Id  Pawpularity\n",
       "0  4128bae22183829d2b5fea10effdb0c3    47.532135\n",
       "1  43a2262d7738e3d420d453815151079e    50.137039\n",
       "2  4e429cead1848a298432a0acad014c9d    55.944988\n",
       "3  80bc3ccafcc51b66303c2c263aa38486    51.407402\n",
       "4  8f49844c382931444e68dffbe20228f4    49.696342\n",
       "5  b03f7041962238a7c9d6537e22f9b017    45.660755\n",
       "6  c978013571258ed6d4637f6e8cc9d6a3    51.944515\n",
       "7  e0de453c1bffc20c22b072b34b54e50f    49.797981"
      ]
     },
     "execution_count": 8,
     "metadata": {},
     "output_type": "execute_result"
    }
   ],
   "source": [
    "\n",
    "\n",
    "submission[\"Pawpularity\"] = out_test\n",
    "submission.to_csv(\"submission.csv\", index=False)\n",
    "submission\n",
    "\n"
   ]
  },
  {
   "cell_type": "code",
   "execution_count": null,
   "id": "59d2f5fa",
   "metadata": {
    "papermill": {
     "duration": 0.008217,
     "end_time": "2021-12-09T09:08:23.769673",
     "exception": false,
     "start_time": "2021-12-09T09:08:23.761456",
     "status": "completed"
    },
    "tags": []
   },
   "outputs": [],
   "source": []
  }
 ],
 "metadata": {
  "kernelspec": {
   "display_name": "Python 3",
   "language": "python",
   "name": "python3"
  },
  "language_info": {
   "codemirror_mode": {
    "name": "ipython",
    "version": 3
   },
   "file_extension": ".py",
   "mimetype": "text/x-python",
   "name": "python",
   "nbconvert_exporter": "python",
   "pygments_lexer": "ipython3",
   "version": "3.7.12"
  },
  "papermill": {
   "default_parameters": {},
   "duration": 24.854983,
   "end_time": "2021-12-09T09:08:25.188493",
   "environment_variables": {},
   "exception": null,
   "input_path": "__notebook__.ipynb",
   "output_path": "__notebook__.ipynb",
   "parameters": {},
   "start_time": "2021-12-09T09:08:00.333510",
   "version": "2.3.3"
  }
 },
 "nbformat": 4,
 "nbformat_minor": 5
}
